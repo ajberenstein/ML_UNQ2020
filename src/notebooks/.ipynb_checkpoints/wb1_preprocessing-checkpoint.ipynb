{
 "cells": [
  {
   "cell_type": "markdown",
   "metadata": {
    "colab_type": "text",
    "id": "Km8btp5ZL34h"
   },
   "source": [
    "### Mounting your google drive on Colab Noetebook"
   ]
  },
  {
   "cell_type": "code",
   "execution_count": 25,
   "metadata": {
    "colab": {},
    "colab_type": "code",
    "id": "uw1rc08LL34j"
   },
   "outputs": [],
   "source": [
    "from google.colab import drive\n",
    "## esto te va a pedir autorización. \n",
    "# Entra al link. Dale los permisos. Copiate el passw y pegalo acá donde te lo pide\n",
    "drive.mount('/content/drive')"
   ]
  },
  {
   "cell_type": "code",
   "execution_count": 2,
   "metadata": {
    "colab": {
     "base_uri": "https://localhost:8080/",
     "height": 34
    },
    "colab_type": "code",
    "id": "b93vuSmTL34o",
    "outputId": "172a2f28-9842-4339-f726-7cfd5a2ce001"
   },
   "outputs": [
    {
     "name": "stdout",
     "output_type": "stream",
     "text": [
      "/content/drive/My Drive/workshopml/ML_workshop2020\n"
     ]
    }
   ],
   "source": [
    "## remplazá 'workshopml'\n",
    "# por el nombre que le hayas puesto a esa carpeta en drive si usaste otro distinto\n",
    "%cd drive/My Drive/unqml/ML_UNQ2020/ \n",
    "datapath = './data/VariantEffectPrediction/clinvarHC_modeling.csv.gz'\n"
   ]
  },
  {
   "cell_type": "code",
   "execution_count": 3,
   "metadata": {
    "colab": {
     "base_uri": "https://localhost:8080/",
     "height": 51
    },
    "colab_type": "code",
    "id": "fNqd-RewL34t",
    "outputId": "993fd729-6528-45ff-babf-6a9b4dcb941d"
   },
   "outputs": [
    {
     "name": "stderr",
     "output_type": "stream",
     "text": [
      "/usr/local/lib/python3.6/dist-packages/statsmodels/tools/_testing.py:19: FutureWarning: pandas.util.testing is deprecated. Use the functions in the public API at pandas.testing instead.\n",
      "  import pandas.util.testing as tm\n"
     ]
    }
   ],
   "source": [
    "%matplotlib inline\n",
    "\n",
    "# data manipulation\n",
    "import pandas as pd\n",
    "import numpy as np\n",
    "\n",
    "## learning\n",
    "from sklearn.model_selection import train_test_split\n",
    "from sklearn.linear_model import LogisticRegression\n",
    "from sklearn.pipeline import Pipeline\n",
    "\n",
    "## preprocessing\n",
    "from sklearn.impute import SimpleImputer\n",
    "from sklearn.preprocessing import OneHotEncoder\n",
    "from sklearn.compose import ColumnTransformer\n",
    "from sklearn.preprocessing import StandardScaler\n",
    "\n",
    "\n",
    "### model performance\n",
    "from sklearn import metrics\n",
    "\n",
    "#ploting modules\n",
    "import matplotlib\n",
    "from matplotlib import pyplot as plt\n",
    "import seaborn\n",
    "\n"
   ]
  },
  {
   "cell_type": "code",
   "execution_count": 4,
   "metadata": {
    "colab": {
     "base_uri": "https://localhost:8080/",
     "height": 558
    },
    "colab_type": "code",
    "id": "jBgeXf9HL34x",
    "outputId": "06aeb9e8-a6d4-4d99-8e56-3091d0e753dd"
   },
   "outputs": [
    {
     "data": {
      "text/html": [
       "<div>\n",
       "<style scoped>\n",
       "    .dataframe tbody tr th:only-of-type {\n",
       "        vertical-align: middle;\n",
       "    }\n",
       "\n",
       "    .dataframe tbody tr th {\n",
       "        vertical-align: top;\n",
       "    }\n",
       "\n",
       "    .dataframe thead th {\n",
       "        text-align: right;\n",
       "    }\n",
       "</style>\n",
       "<table border=\"1\" class=\"dataframe\">\n",
       "  <thead>\n",
       "    <tr style=\"text-align: right;\">\n",
       "      <th></th>\n",
       "      <th>gerp_gerp_nr</th>\n",
       "      <th>gerp_gerp_rs</th>\n",
       "      <th>phastcons_phastcons100_vert</th>\n",
       "      <th>phastcons_phastcons30_mamm</th>\n",
       "      <th>phylop_phylop100_vert</th>\n",
       "      <th>phylop_phylop100_vert_r</th>\n",
       "      <th>phylop_phylop30_mamm</th>\n",
       "      <th>gtex_counts</th>\n",
       "      <th>interpro_domain_simple</th>\n",
       "      <th>repeat_flag</th>\n",
       "      <th>cosmic_gene_occurrences</th>\n",
       "      <th>ess_gene_ess_gene</th>\n",
       "      <th>ess_gene_ess_gene_crispr</th>\n",
       "      <th>ess_gene_ess_gene_crispr2</th>\n",
       "      <th>ess_gene_ess_gene_gene_trap</th>\n",
       "      <th>ess_gene_indispensability_score</th>\n",
       "      <th>ghis_ghis</th>\n",
       "      <th>loftool_loftool_score</th>\n",
       "      <th>prec_prec</th>\n",
       "      <th>exac_gene_exac_del_score</th>\n",
       "      <th>exac_gene_exac_dup_score</th>\n",
       "      <th>exac_gene_exac_cnv_score</th>\n",
       "      <th>exac_gene_exac_cnv_flag</th>\n",
       "      <th>biogrid_counts</th>\n",
       "      <th>intact_counts</th>\n",
       "      <th>gnomad_gene_oe_lof_min</th>\n",
       "      <th>gnomad_gene_oe_mis_min</th>\n",
       "      <th>gnomad_gene_oe_syn_min</th>\n",
       "      <th>gnomad_gene_lof_z_max</th>\n",
       "      <th>gnomad_gene_mis_z_max</th>\n",
       "      <th>gnomad_gene_syn_z_max</th>\n",
       "      <th>gnomad_gene_pLI_max</th>\n",
       "      <th>gnomad_gene_pRec_max</th>\n",
       "      <th>gnomad_gene_pNull_max</th>\n",
       "    </tr>\n",
       "    <tr>\n",
       "      <th>ChrPosRefAlt</th>\n",
       "      <th></th>\n",
       "      <th></th>\n",
       "      <th></th>\n",
       "      <th></th>\n",
       "      <th></th>\n",
       "      <th></th>\n",
       "      <th></th>\n",
       "      <th></th>\n",
       "      <th></th>\n",
       "      <th></th>\n",
       "      <th></th>\n",
       "      <th></th>\n",
       "      <th></th>\n",
       "      <th></th>\n",
       "      <th></th>\n",
       "      <th></th>\n",
       "      <th></th>\n",
       "      <th></th>\n",
       "      <th></th>\n",
       "      <th></th>\n",
       "      <th></th>\n",
       "      <th></th>\n",
       "      <th></th>\n",
       "      <th></th>\n",
       "      <th></th>\n",
       "      <th></th>\n",
       "      <th></th>\n",
       "      <th></th>\n",
       "      <th></th>\n",
       "      <th></th>\n",
       "      <th></th>\n",
       "      <th></th>\n",
       "      <th></th>\n",
       "      <th></th>\n",
       "    </tr>\n",
       "  </thead>\n",
       "  <tbody>\n",
       "    <tr>\n",
       "      <th>chr21-46306709-C-T</th>\n",
       "      <td>4.70</td>\n",
       "      <td>-0.589</td>\n",
       "      <td>0.990</td>\n",
       "      <td>0.971</td>\n",
       "      <td>2.374</td>\n",
       "      <td>0.43929</td>\n",
       "      <td>0.019</td>\n",
       "      <td>0.0</td>\n",
       "      <td>NaN</td>\n",
       "      <td>0</td>\n",
       "      <td>884.0</td>\n",
       "      <td>E</td>\n",
       "      <td>N</td>\n",
       "      <td>N</td>\n",
       "      <td>N</td>\n",
       "      <td>0.760187</td>\n",
       "      <td>0.567495</td>\n",
       "      <td>0.03330</td>\n",
       "      <td>0.53069</td>\n",
       "      <td>-0.561369</td>\n",
       "      <td>-0.406319</td>\n",
       "      <td>-0.474374</td>\n",
       "      <td>Y</td>\n",
       "      <td>26.0</td>\n",
       "      <td>22.0</td>\n",
       "      <td>0.000000</td>\n",
       "      <td>0.87617</td>\n",
       "      <td>0.96747</td>\n",
       "      <td>NaN</td>\n",
       "      <td>0.96463</td>\n",
       "      <td>0.13453</td>\n",
       "      <td>NaN</td>\n",
       "      <td>NaN</td>\n",
       "      <td>NaN</td>\n",
       "    </tr>\n",
       "    <tr>\n",
       "      <th>chr4-104067195-T-C</th>\n",
       "      <td>4.84</td>\n",
       "      <td>-0.518</td>\n",
       "      <td>0.000</td>\n",
       "      <td>0.006</td>\n",
       "      <td>-0.832</td>\n",
       "      <td>0.04507</td>\n",
       "      <td>0.170</td>\n",
       "      <td>0.0</td>\n",
       "      <td>NaN</td>\n",
       "      <td>0</td>\n",
       "      <td>1503.0</td>\n",
       "      <td>NaN</td>\n",
       "      <td>NaN</td>\n",
       "      <td>NaN</td>\n",
       "      <td>NaN</td>\n",
       "      <td>NaN</td>\n",
       "      <td>0.619577</td>\n",
       "      <td>0.80100</td>\n",
       "      <td>0.10675</td>\n",
       "      <td>-0.603287</td>\n",
       "      <td>0.931148</td>\n",
       "      <td>0.355901</td>\n",
       "      <td>N</td>\n",
       "      <td>36.0</td>\n",
       "      <td>28.0</td>\n",
       "      <td>0.088125</td>\n",
       "      <td>0.52606</td>\n",
       "      <td>0.85277</td>\n",
       "      <td>8.4223</td>\n",
       "      <td>2.20930</td>\n",
       "      <td>0.63648</td>\n",
       "      <td>8.850800e-01</td>\n",
       "      <td>9.741200e-01</td>\n",
       "      <td>2.696400e-10</td>\n",
       "    </tr>\n",
       "    <tr>\n",
       "      <th>chrX-153297737-G-C</th>\n",
       "      <td>5.93</td>\n",
       "      <td>5.060</td>\n",
       "      <td>1.000</td>\n",
       "      <td>0.999</td>\n",
       "      <td>5.393</td>\n",
       "      <td>0.66025</td>\n",
       "      <td>0.245</td>\n",
       "      <td>0.0</td>\n",
       "      <td>others</td>\n",
       "      <td>0</td>\n",
       "      <td>590.0</td>\n",
       "      <td>N</td>\n",
       "      <td>N</td>\n",
       "      <td>N</td>\n",
       "      <td>N</td>\n",
       "      <td>0.800905</td>\n",
       "      <td>0.529480</td>\n",
       "      <td>0.00365</td>\n",
       "      <td>0.69428</td>\n",
       "      <td>NaN</td>\n",
       "      <td>NaN</td>\n",
       "      <td>NaN</td>\n",
       "      <td>NaN</td>\n",
       "      <td>153.0</td>\n",
       "      <td>24.0</td>\n",
       "      <td>0.000000</td>\n",
       "      <td>0.83348</td>\n",
       "      <td>1.33280</td>\n",
       "      <td>2.5441</td>\n",
       "      <td>0.24759</td>\n",
       "      <td>-8.06820</td>\n",
       "      <td>7.838600e-01</td>\n",
       "      <td>4.625100e-01</td>\n",
       "      <td>9.647300e-02</td>\n",
       "    </tr>\n",
       "    <tr>\n",
       "      <th>chr12-116429247-T-C</th>\n",
       "      <td>5.35</td>\n",
       "      <td>4.170</td>\n",
       "      <td>0.996</td>\n",
       "      <td>1.000</td>\n",
       "      <td>2.519</td>\n",
       "      <td>0.45206</td>\n",
       "      <td>1.138</td>\n",
       "      <td>0.0</td>\n",
       "      <td>NaN</td>\n",
       "      <td>0</td>\n",
       "      <td>2588.0</td>\n",
       "      <td>NaN</td>\n",
       "      <td>NaN</td>\n",
       "      <td>NaN</td>\n",
       "      <td>NaN</td>\n",
       "      <td>NaN</td>\n",
       "      <td>0.643191</td>\n",
       "      <td>0.03620</td>\n",
       "      <td>0.11567</td>\n",
       "      <td>0.817627</td>\n",
       "      <td>-0.319239</td>\n",
       "      <td>0.070959</td>\n",
       "      <td>N</td>\n",
       "      <td>25.0</td>\n",
       "      <td>16.0</td>\n",
       "      <td>0.000000</td>\n",
       "      <td>0.59238</td>\n",
       "      <td>0.94428</td>\n",
       "      <td>9.4346</td>\n",
       "      <td>4.06230</td>\n",
       "      <td>0.24178</td>\n",
       "      <td>1.000000e+00</td>\n",
       "      <td>3.926500e-17</td>\n",
       "      <td>2.125300e-41</td>\n",
       "    </tr>\n",
       "    <tr>\n",
       "      <th>chr17-10535216-T-C</th>\n",
       "      <td>4.91</td>\n",
       "      <td>1.220</td>\n",
       "      <td>0.045</td>\n",
       "      <td>0.057</td>\n",
       "      <td>1.768</td>\n",
       "      <td>0.38141</td>\n",
       "      <td>0.118</td>\n",
       "      <td>0.0</td>\n",
       "      <td>others</td>\n",
       "      <td>0</td>\n",
       "      <td>1344.0</td>\n",
       "      <td>NaN</td>\n",
       "      <td>NaN</td>\n",
       "      <td>NaN</td>\n",
       "      <td>NaN</td>\n",
       "      <td>NaN</td>\n",
       "      <td>0.402021</td>\n",
       "      <td>0.11200</td>\n",
       "      <td>0.21181</td>\n",
       "      <td>-0.836138</td>\n",
       "      <td>-0.059029</td>\n",
       "      <td>-0.227386</td>\n",
       "      <td>N</td>\n",
       "      <td>12.0</td>\n",
       "      <td>11.0</td>\n",
       "      <td>0.491950</td>\n",
       "      <td>0.82734</td>\n",
       "      <td>1.04760</td>\n",
       "      <td>4.7735</td>\n",
       "      <td>2.01000</td>\n",
       "      <td>-0.76659</td>\n",
       "      <td>2.880900e-20</td>\n",
       "      <td>1.000000e+00</td>\n",
       "      <td>4.476500e-08</td>\n",
       "    </tr>\n",
       "  </tbody>\n",
       "</table>\n",
       "</div>"
      ],
      "text/plain": [
       "                     gerp_gerp_nr  ...  gnomad_gene_pNull_max\n",
       "ChrPosRefAlt                       ...                       \n",
       "chr21-46306709-C-T           4.70  ...                    NaN\n",
       "chr4-104067195-T-C           4.84  ...           2.696400e-10\n",
       "chrX-153297737-G-C           5.93  ...           9.647300e-02\n",
       "chr12-116429247-T-C          5.35  ...           2.125300e-41\n",
       "chr17-10535216-T-C           4.91  ...           4.476500e-08\n",
       "\n",
       "[5 rows x 34 columns]"
      ]
     },
     "metadata": {
      "tags": []
     },
     "output_type": "display_data"
    },
    {
     "data": {
      "text/html": [
       "<div>\n",
       "<style scoped>\n",
       "    .dataframe tbody tr th:only-of-type {\n",
       "        vertical-align: middle;\n",
       "    }\n",
       "\n",
       "    .dataframe tbody tr th {\n",
       "        vertical-align: top;\n",
       "    }\n",
       "\n",
       "    .dataframe thead th {\n",
       "        text-align: right;\n",
       "    }\n",
       "</style>\n",
       "<table border=\"1\" class=\"dataframe\">\n",
       "  <thead>\n",
       "    <tr style=\"text-align: right;\">\n",
       "      <th></th>\n",
       "      <th>ClinvarHC</th>\n",
       "    </tr>\n",
       "    <tr>\n",
       "      <th>ChrPosRefAlt</th>\n",
       "      <th></th>\n",
       "    </tr>\n",
       "  </thead>\n",
       "  <tbody>\n",
       "    <tr>\n",
       "      <th>chr21-46306709-C-T</th>\n",
       "      <td>0</td>\n",
       "    </tr>\n",
       "    <tr>\n",
       "      <th>chr4-104067195-T-C</th>\n",
       "      <td>0</td>\n",
       "    </tr>\n",
       "    <tr>\n",
       "      <th>chrX-153297737-G-C</th>\n",
       "      <td>1</td>\n",
       "    </tr>\n",
       "    <tr>\n",
       "      <th>chr12-116429247-T-C</th>\n",
       "      <td>0</td>\n",
       "    </tr>\n",
       "    <tr>\n",
       "      <th>chr17-10535216-T-C</th>\n",
       "      <td>0</td>\n",
       "    </tr>\n",
       "  </tbody>\n",
       "</table>\n",
       "</div>"
      ],
      "text/plain": [
       "                     ClinvarHC\n",
       "ChrPosRefAlt                  \n",
       "chr21-46306709-C-T           0\n",
       "chr4-104067195-T-C           0\n",
       "chrX-153297737-G-C           1\n",
       "chr12-116429247-T-C          0\n",
       "chr17-10535216-T-C           0"
      ]
     },
     "metadata": {
      "tags": []
     },
     "output_type": "display_data"
    }
   ],
   "source": [
    "SEED = 2718281\n",
    "data = pd.read_csv(datapath,sep = ',',index_col='ChrPosRefAlt',nrows = 500)\n",
    "X,y = data.drop(['ClinvarHC'],axis = 1), data[['ClinvarHC']]\n",
    "display(X.head())\n",
    "display(y.head())\n",
    "#y.columns = ['ChrPosRefAlt','ClinvarHC']\n",
    "#y.set_index(['ChrPosRefAlt'],inplace = True) "
   ]
  },
  {
   "cell_type": "markdown",
   "metadata": {
    "colab_type": "text",
    "id": "ycr1QXvPL342"
   },
   "source": [
    "### Hacemos el split en training y tesing sets. "
   ]
  },
  {
   "cell_type": "code",
   "execution_count": 5,
   "metadata": {
    "colab": {},
    "colab_type": "code",
    "id": "EIXFV1IKL343"
   },
   "outputs": [],
   "source": [
    "# Prueben con esta\n",
    "#X_train, X_test, y_train, y_test = train_test_split(X, y, test_size=0.50, random_state=100)\n",
    "#display(y.ClinvarHC.value_counts(normalize = True)[1]),\n",
    "#display(y_train.ClinvarHC.value_counts(normalize = True)[1]), \n",
    "#y_test.ClinvarHC.value_counts(normalize = True)[1]\n",
    "\n",
    "\n",
    "# La forma correcta, para respetar la proporción de categorías:\n",
    "\n",
    "X_train, X_test, y_train, y_test = train_test_split(X, y, test_size=0.50, random_state=SEED,stratify = y)\n"
   ]
  },
  {
   "cell_type": "markdown",
   "metadata": {
    "colab_type": "text",
    "id": "a7M725eoL348"
   },
   "source": [
    "### Podemos ya entrenar el primer modelo? \n",
    "* Falla, por qué?"
   ]
  },
  {
   "cell_type": "code",
   "execution_count": 6,
   "metadata": {
    "colab": {},
    "colab_type": "code",
    "id": "NFDbSZenL349"
   },
   "outputs": [],
   "source": [
    "#LR = LogisticRegression(random_state=0).fit(X_train, y_train) # est va a romperse..."
   ]
  },
  {
   "cell_type": "markdown",
   "metadata": {
    "colab_type": "text",
    "id": "4RNpTEXWL35C"
   },
   "source": [
    "### Básiscamente tenemos 2 grandes problemas\n",
    "* 1) Los Features categóricos no tienen un tratamiento numérico. Debemos binarizarlos. \n",
    "* 2) Lo Features continuos tienen Nulls, y una regresión Logística no puede lidiar con Nulls. \n",
    "* 3) Además es conveniente escalar las variables antes de correr una RL (aunque esto último no impide correr el modelo)"
   ]
  },
  {
   "cell_type": "markdown",
   "metadata": {
    "colab_type": "text",
    "id": "Een9cfjmL35D"
   },
   "source": [
    "# Algunas notas antes de empezar\n",
    "\n",
    "#### Por favor, no preprocecsar el Dataset en forma global antes de arrancar. \n",
    "* Lo van a ver a menudo, pero no es el camino correcto. \n",
    "* Puede traer problemas de generalización\n"
   ]
  },
  {
   "cell_type": "markdown",
   "metadata": {
    "colab_type": "text",
    "id": "QZv8YnMcL35F"
   },
   "source": [
    "\n",
    "### Lo correcto es trabajar con pipelines. \n",
    "* Los pipelines son una manera de integrar nuestro modelo. \n",
    "\n",
    "* Nuestro modelo no tenemos que pensarlo como, por ejemplo una \"regresión logística\", sobre datos ya preprocesados de antemano, sino que nos permite pensar al preprocesamiento, imputación, y otras transformaciones como parte del modelo mismo).\n",
    "\n"
   ]
  },
  {
   "cell_type": "markdown",
   "metadata": {
    "colab_type": "text",
    "id": "x2LFU56tL35G"
   },
   "source": [
    "## Empezemos detectando las variables categóricas."
   ]
  },
  {
   "cell_type": "code",
   "execution_count": 7,
   "metadata": {
    "colab": {
     "base_uri": "https://localhost:8080/",
     "height": 153
    },
    "colab_type": "code",
    "id": "_W50Z3G0L35G",
    "outputId": "50838468-1113-40bc-af17-d75ca8794380"
   },
   "outputs": [
    {
     "name": "stdout",
     "output_type": "stream",
     "text": [
      "tenemos 28 variables numéricas\n",
      "tenemos 6 variables categóricas\n"
     ]
    },
    {
     "data": {
      "text/plain": [
       "['interpro_domain_simple',\n",
       " 'ess_gene_ess_gene',\n",
       " 'ess_gene_ess_gene_crispr',\n",
       " 'ess_gene_ess_gene_crispr2',\n",
       " 'ess_gene_ess_gene_gene_trap',\n",
       " 'exac_gene_exac_cnv_flag']"
      ]
     },
     "execution_count": 7,
     "metadata": {
      "tags": []
     },
     "output_type": "execute_result"
    }
   ],
   "source": [
    "categorical_feature_mask = X_train.dtypes==object       # esto nos da un vector booleano \n",
    "categorical_columns = X_train.columns[categorical_feature_mask].tolist()  # acá picnhamos los nombres de esas columnas\n",
    "\n",
    "numerical_columns = X_train.columns[~X_train.columns.isin(categorical_columns)] # defino las numéricas como el complemento de las categóricas \n",
    "print(\"tenemos %s variables numéricas\"%len(numerical_columns))\n",
    "print(\"tenemos %s variables categóricas\"%len(categorical_columns))\n",
    "\n",
    "categorical_columns"
   ]
  },
  {
   "cell_type": "markdown",
   "metadata": {
    "colab_type": "text",
    "id": "pUaVKlsOL35L"
   },
   "source": [
    "* Ojo, pues caundo vectorizemos las variables categóricas, tendremos una variable por cada una de sus categorías (-1 para evitar colinealidades)"
   ]
  },
  {
   "cell_type": "code",
   "execution_count": 8,
   "metadata": {
    "colab": {
     "base_uri": "https://localhost:8080/",
     "height": 153
    },
    "colab_type": "code",
    "id": "cfFZ7P2RL35L",
    "outputId": "93e578c9-3afe-45b3-9d06-2d60c3fb308b"
   },
   "outputs": [
    {
     "name": "stdout",
     "output_type": "stream",
     "text": [
      "Número de Categorías por Variable\n"
     ]
    },
    {
     "data": {
      "text/plain": [
       "interpro_domain_simple         7\n",
       "ess_gene_ess_gene              2\n",
       "ess_gene_ess_gene_crispr       2\n",
       "ess_gene_ess_gene_crispr2      3\n",
       "ess_gene_ess_gene_gene_trap    4\n",
       "exac_gene_exac_cnv_flag        2\n",
       "dtype: int64"
      ]
     },
     "execution_count": 8,
     "metadata": {
      "tags": []
     },
     "output_type": "execute_result"
    }
   ],
   "source": [
    "print ('Número de Categorías por Variable')\n",
    "X_train[categorical_columns].apply(lambda x: x.nunique())\n",
    "# Esto nos dice que son 21 categorías\n"
   ]
  },
  {
   "cell_type": "code",
   "execution_count": 9,
   "metadata": {
    "colab": {
     "base_uri": "https://localhost:8080/",
     "height": 447
    },
    "colab_type": "code",
    "id": "9zaBa1AVL35P",
    "outputId": "055832b5-5300-4a67-a3ee-b61a217fc4c9"
   },
   "outputs": [
    {
     "name": "stdout",
     "output_type": "stream",
     "text": [
      "Porcentaje de filas Null por Variable\n"
     ]
    },
    {
     "data": {
      "text/plain": [
       "<matplotlib.axes._subplots.AxesSubplot at 0x7f43c0b7f630>"
      ]
     },
     "execution_count": 9,
     "metadata": {
      "tags": []
     },
     "output_type": "execute_result"
    },
    {
     "data": {
      "image/png": "[encoded data removed]",
      "text/plain": [
       "<Figure size 432x288 with 1 Axes>"
      ]
     },
     "metadata": {
      "needs_background": "light",
      "tags": []
     },
     "output_type": "display_data"
    }
   ],
   "source": [
    "print ('Porcentaje de filas Null por Variable')\n",
    "X_train[categorical_columns].apply(lambda x: x.isnull().sum()/len(x)).plot(kind = 'bar') \n",
    "# Y hay varios nulls o 'Missing categories' en cada variale"
   ]
  },
  {
   "cell_type": "markdown",
   "metadata": {
    "colab_type": "text",
    "id": "YUCHmRi3L35T"
   },
   "source": [
    "# Cuántas columnas esperan que se genere en la  binarización del dataset?"
   ]
  },
  {
   "cell_type": "markdown",
   "metadata": {
    "colab_type": "text",
    "id": "8Tz4u8MVL35U"
   },
   "source": [
    "#### veamos"
   ]
  },
  {
   "cell_type": "code",
   "execution_count": 10,
   "metadata": {
    "colab": {},
    "colab_type": "code",
    "id": "a2SdJNjjL35V"
   },
   "outputs": [],
   "source": [
    "categorical_transformer = Pipeline(steps=[\n",
    "    ('cat_imputer', SimpleImputer(strategy='constant', fill_value='missing')),  \n",
    "    ('onehot', OneHotEncoder(handle_unknown='ignore'))])      \n",
    "# Uno podría incluir drop='first' para evitar colinealidades, pero no si tenemos seteado handle_unknown = 'ignore'\n",
    "\n"
   ]
  },
  {
   "cell_type": "markdown",
   "metadata": {
    "colab_type": "text",
    "id": "hF1lQKQIL35b"
   },
   "source": [
    "## Qué  va a hacer este transformer? \n",
    "* 1) SimpleImputer:  imputamos el valor \"missing\", cuando hay un valor None.\n",
    "* 2) OneHotEncoder:  transformamos esas variables categóricas a variables numéricas binarias, una por cada categoría presente en cada variable\n",
    "\n"
   ]
  },
  {
   "cell_type": "code",
   "execution_count": 11,
   "metadata": {
    "colab": {
     "base_uri": "https://localhost:8080/",
     "height": 170
    },
    "colab_type": "code",
    "id": "gYqH38hlL35c",
    "outputId": "e7484fd8-5883-4634-da15-1fc84955cfe3"
   },
   "outputs": [
    {
     "data": {
      "text/plain": [
       "array(['x0_ABC transporter-like',\n",
       "       'x0_Aromatic amino acid hydroxylase, C-terminal',\n",
       "       'x0_EGF-like domain', 'x0_Fibronectin type III',\n",
       "       'x0_Ion transport domain',\n",
       "       'x0_Serine-threonine/tyrosine-protein kinase, catalytic domain',\n",
       "       'x0_missing', 'x0_others', 'x1_E', 'x1_N', 'x1_missing', 'x2_E',\n",
       "       'x2_N', 'x2_missing', 'x3_E', 'x3_N', 'x3_S', 'x3_missing', 'x4_E',\n",
       "       'x4_H', 'x4_K', 'x4_N', 'x4_missing', 'x5_N', 'x5_Y', 'x5_missing'],\n",
       "      dtype=object)"
      ]
     },
     "execution_count": 11,
     "metadata": {
      "tags": []
     },
     "output_type": "execute_result"
    }
   ],
   "source": [
    "# ejecutemos el \n",
    "Xtmp = X_train[categorical_columns]  # matrz temporal \n",
    "Xtmp_transformed = categorical_transformer.fit_transform(Xtmp)  ### Acá estamos aplicando la transformación.\n",
    "\n",
    "\n",
    "feature_names = categorical_transformer.named_steps['onehot'].get_feature_names()\n",
    "feature_names"
   ]
  },
  {
   "cell_type": "markdown",
   "metadata": {
    "colab_type": "text",
    "id": "MYXCU08GL35g"
   },
   "source": [
    "#### Sólo para visualizarlo y entenderlo mejor:\n",
    "(y responder la pregunta de arriba)\n"
   ]
  },
  {
   "cell_type": "code",
   "execution_count": 12,
   "metadata": {
    "colab": {
     "base_uri": "https://localhost:8080/",
     "height": 292
    },
    "colab_type": "code",
    "id": "3IiGxehrL35h",
    "outputId": "bc3dc0f2-2e76-496c-b43d-f061b9f90f7d"
   },
   "outputs": [
    {
     "name": "stdout",
     "output_type": "stream",
     "text": [
      "(5, 26)\n"
     ]
    },
    {
     "data": {
      "text/html": [
       "<div>\n",
       "<style scoped>\n",
       "    .dataframe tbody tr th:only-of-type {\n",
       "        vertical-align: middle;\n",
       "    }\n",
       "\n",
       "    .dataframe tbody tr th {\n",
       "        vertical-align: top;\n",
       "    }\n",
       "\n",
       "    .dataframe thead th {\n",
       "        text-align: right;\n",
       "    }\n",
       "</style>\n",
       "<table border=\"1\" class=\"dataframe\">\n",
       "  <thead>\n",
       "    <tr style=\"text-align: right;\">\n",
       "      <th></th>\n",
       "      <th>x0_ABC transporter-like</th>\n",
       "      <th>x0_Aromatic amino acid hydroxylase, C-terminal</th>\n",
       "      <th>x0_EGF-like domain</th>\n",
       "      <th>x0_Fibronectin type III</th>\n",
       "      <th>x0_Ion transport domain</th>\n",
       "      <th>x0_Serine-threonine/tyrosine-protein kinase, catalytic domain</th>\n",
       "      <th>x0_missing</th>\n",
       "      <th>x0_others</th>\n",
       "      <th>x1_E</th>\n",
       "      <th>x1_N</th>\n",
       "      <th>x1_missing</th>\n",
       "      <th>x2_E</th>\n",
       "      <th>x2_N</th>\n",
       "      <th>x2_missing</th>\n",
       "      <th>x3_E</th>\n",
       "      <th>x3_N</th>\n",
       "      <th>x3_S</th>\n",
       "      <th>x3_missing</th>\n",
       "      <th>x4_E</th>\n",
       "      <th>x4_H</th>\n",
       "      <th>x4_K</th>\n",
       "      <th>x4_N</th>\n",
       "      <th>x4_missing</th>\n",
       "      <th>x5_N</th>\n",
       "      <th>x5_Y</th>\n",
       "      <th>x5_missing</th>\n",
       "    </tr>\n",
       "  </thead>\n",
       "  <tbody>\n",
       "    <tr>\n",
       "      <th>0</th>\n",
       "      <td>0.0</td>\n",
       "      <td>0.0</td>\n",
       "      <td>0.0</td>\n",
       "      <td>0.0</td>\n",
       "      <td>0.0</td>\n",
       "      <td>0.0</td>\n",
       "      <td>1.0</td>\n",
       "      <td>0.0</td>\n",
       "      <td>1.0</td>\n",
       "      <td>0.0</td>\n",
       "      <td>0.0</td>\n",
       "      <td>0.0</td>\n",
       "      <td>1.0</td>\n",
       "      <td>0.0</td>\n",
       "      <td>0.0</td>\n",
       "      <td>0.0</td>\n",
       "      <td>1.0</td>\n",
       "      <td>0.0</td>\n",
       "      <td>0.0</td>\n",
       "      <td>0.0</td>\n",
       "      <td>0.0</td>\n",
       "      <td>1.0</td>\n",
       "      <td>0.0</td>\n",
       "      <td>1.0</td>\n",
       "      <td>0.0</td>\n",
       "      <td>0.0</td>\n",
       "    </tr>\n",
       "    <tr>\n",
       "      <th>1</th>\n",
       "      <td>0.0</td>\n",
       "      <td>0.0</td>\n",
       "      <td>0.0</td>\n",
       "      <td>0.0</td>\n",
       "      <td>0.0</td>\n",
       "      <td>0.0</td>\n",
       "      <td>1.0</td>\n",
       "      <td>0.0</td>\n",
       "      <td>0.0</td>\n",
       "      <td>0.0</td>\n",
       "      <td>1.0</td>\n",
       "      <td>0.0</td>\n",
       "      <td>0.0</td>\n",
       "      <td>1.0</td>\n",
       "      <td>0.0</td>\n",
       "      <td>0.0</td>\n",
       "      <td>0.0</td>\n",
       "      <td>1.0</td>\n",
       "      <td>0.0</td>\n",
       "      <td>0.0</td>\n",
       "      <td>0.0</td>\n",
       "      <td>0.0</td>\n",
       "      <td>1.0</td>\n",
       "      <td>0.0</td>\n",
       "      <td>1.0</td>\n",
       "      <td>0.0</td>\n",
       "    </tr>\n",
       "    <tr>\n",
       "      <th>2</th>\n",
       "      <td>0.0</td>\n",
       "      <td>0.0</td>\n",
       "      <td>0.0</td>\n",
       "      <td>0.0</td>\n",
       "      <td>0.0</td>\n",
       "      <td>0.0</td>\n",
       "      <td>1.0</td>\n",
       "      <td>0.0</td>\n",
       "      <td>0.0</td>\n",
       "      <td>0.0</td>\n",
       "      <td>1.0</td>\n",
       "      <td>0.0</td>\n",
       "      <td>0.0</td>\n",
       "      <td>1.0</td>\n",
       "      <td>0.0</td>\n",
       "      <td>0.0</td>\n",
       "      <td>0.0</td>\n",
       "      <td>1.0</td>\n",
       "      <td>0.0</td>\n",
       "      <td>0.0</td>\n",
       "      <td>0.0</td>\n",
       "      <td>0.0</td>\n",
       "      <td>1.0</td>\n",
       "      <td>1.0</td>\n",
       "      <td>0.0</td>\n",
       "      <td>0.0</td>\n",
       "    </tr>\n",
       "    <tr>\n",
       "      <th>3</th>\n",
       "      <td>0.0</td>\n",
       "      <td>0.0</td>\n",
       "      <td>0.0</td>\n",
       "      <td>0.0</td>\n",
       "      <td>0.0</td>\n",
       "      <td>0.0</td>\n",
       "      <td>1.0</td>\n",
       "      <td>0.0</td>\n",
       "      <td>0.0</td>\n",
       "      <td>0.0</td>\n",
       "      <td>1.0</td>\n",
       "      <td>0.0</td>\n",
       "      <td>0.0</td>\n",
       "      <td>1.0</td>\n",
       "      <td>0.0</td>\n",
       "      <td>0.0</td>\n",
       "      <td>0.0</td>\n",
       "      <td>1.0</td>\n",
       "      <td>0.0</td>\n",
       "      <td>0.0</td>\n",
       "      <td>0.0</td>\n",
       "      <td>0.0</td>\n",
       "      <td>1.0</td>\n",
       "      <td>0.0</td>\n",
       "      <td>1.0</td>\n",
       "      <td>0.0</td>\n",
       "    </tr>\n",
       "    <tr>\n",
       "      <th>4</th>\n",
       "      <td>0.0</td>\n",
       "      <td>0.0</td>\n",
       "      <td>0.0</td>\n",
       "      <td>0.0</td>\n",
       "      <td>0.0</td>\n",
       "      <td>0.0</td>\n",
       "      <td>1.0</td>\n",
       "      <td>0.0</td>\n",
       "      <td>0.0</td>\n",
       "      <td>0.0</td>\n",
       "      <td>1.0</td>\n",
       "      <td>0.0</td>\n",
       "      <td>0.0</td>\n",
       "      <td>1.0</td>\n",
       "      <td>0.0</td>\n",
       "      <td>0.0</td>\n",
       "      <td>0.0</td>\n",
       "      <td>1.0</td>\n",
       "      <td>0.0</td>\n",
       "      <td>0.0</td>\n",
       "      <td>0.0</td>\n",
       "      <td>0.0</td>\n",
       "      <td>1.0</td>\n",
       "      <td>1.0</td>\n",
       "      <td>0.0</td>\n",
       "      <td>0.0</td>\n",
       "    </tr>\n",
       "  </tbody>\n",
       "</table>\n",
       "</div>"
      ],
      "text/plain": [
       "   x0_ABC transporter-like  ...  x5_missing\n",
       "0                      0.0  ...         0.0\n",
       "1                      0.0  ...         0.0\n",
       "2                      0.0  ...         0.0\n",
       "3                      0.0  ...         0.0\n",
       "4                      0.0  ...         0.0\n",
       "\n",
       "[5 rows x 26 columns]"
      ]
     },
     "execution_count": 12,
     "metadata": {
      "tags": []
     },
     "output_type": "execute_result"
    }
   ],
   "source": [
    "aux = pd.DataFrame(Xtmp_transformed.toarray(),columns = feature_names).head()\n",
    "print(aux.shape)\n",
    "aux.head()"
   ]
  },
  {
   "cell_type": "markdown",
   "metadata": {
    "colab_type": "text",
    "id": "xaEpoyw5L35m"
   },
   "source": [
    "* Noten arriba, la presencia de columnas \"Missing\" en cada variable\n",
    "\n",
    "\n",
    "#### Listo con el tratamiento básico en las variables categóricas. \n",
    "\n",
    "\n",
    "."
   ]
  },
  {
   "cell_type": "markdown",
   "metadata": {
    "colab_type": "text",
    "id": "NEp2QQvsL35n"
   },
   "source": [
    "##   Vamos al tratamiento de las variables numéricas"
   ]
  },
  {
   "cell_type": "markdown",
   "metadata": {
    "colab_type": "text",
    "id": "FZJqT4LGL35o"
   },
   "source": [
    "## Vamos a tratarlas de la siguiente forma: \n",
    "* 1) Imputamos en cada valor None, la mediana a lo largo de todos los restantes elementos en ese feature.\n",
    "* notar que es conveniente respecto a imputar el valor medio debido a que la mediana es robusta a outliers.\n",
    "\n",
    "* 2) Standard Scaler  ($Z_{score}$):  Es una forma de normalizar una variable numérica:\n",
    "    $x_{mean}$ : se calcula el valor medio de toda la variable\n",
    "    $x_{sd}$ : se calcula el desvío estandard de toda la variable.\n",
    "    Luego para cada x $\\in$ variable se calcula:\n",
    "\n",
    "$Z_{score} = \\frac{x - x_{mean}}{x_{sd}}$\n"
   ]
  },
  {
   "cell_type": "code",
   "execution_count": 13,
   "metadata": {
    "colab": {},
    "colab_type": "code",
    "id": "WGzCjTN0L35o"
   },
   "outputs": [],
   "source": [
    "numeric_transformer = Pipeline(steps=[\n",
    "    ('num_imputer', SimpleImputer(strategy='median')),\n",
    "    ('scaler', StandardScaler(with_mean=False))])  # Esto es una vacancia de Sklearn, no permite aún \"centrar\" matrizes sparse\n",
    "\n",
    "#(pisamos el anterior, es solo para exp)\n",
    "Xtmp_num = X_train[numerical_columns] \n",
    "Xtmp_num_transformed = numeric_transformer.fit_transform(Xtmp_num)\n",
    "#### Acá no se puede recuperar el nombre de los features, pero por el tipo de transformación permanece inalterado.\n",
    "    \n"
   ]
  },
  {
   "cell_type": "markdown",
   "metadata": {
    "colab_type": "text",
    "id": "E6bHsD9XL35s"
   },
   "source": [
    "* en realidad la transformación que hicimos fue:\n",
    "$Z^{*} = \\frac{x }{x_{sd}}$"
   ]
  },
  {
   "cell_type": "code",
   "execution_count": 14,
   "metadata": {
    "colab": {
     "base_uri": "https://localhost:8080/",
     "height": 241
    },
    "colab_type": "code",
    "id": "rtYmrAjuL35t",
    "outputId": "d1d0bb3f-98bc-425a-dbba-3dc419babdca"
   },
   "outputs": [
    {
     "name": "stdout",
     "output_type": "stream",
     "text": [
      "(250, 28)\n"
     ]
    },
    {
     "data": {
      "text/html": [
       "<div>\n",
       "<style scoped>\n",
       "    .dataframe tbody tr th:only-of-type {\n",
       "        vertical-align: middle;\n",
       "    }\n",
       "\n",
       "    .dataframe tbody tr th {\n",
       "        vertical-align: top;\n",
       "    }\n",
       "\n",
       "    .dataframe thead th {\n",
       "        text-align: right;\n",
       "    }\n",
       "</style>\n",
       "<table border=\"1\" class=\"dataframe\">\n",
       "  <thead>\n",
       "    <tr style=\"text-align: right;\">\n",
       "      <th></th>\n",
       "      <th>gerp_gerp_nr</th>\n",
       "      <th>gerp_gerp_rs</th>\n",
       "      <th>phastcons_phastcons100_vert</th>\n",
       "      <th>phastcons_phastcons30_mamm</th>\n",
       "      <th>phylop_phylop100_vert</th>\n",
       "      <th>phylop_phylop100_vert_r</th>\n",
       "      <th>phylop_phylop30_mamm</th>\n",
       "      <th>gtex_counts</th>\n",
       "      <th>repeat_flag</th>\n",
       "      <th>cosmic_gene_occurrences</th>\n",
       "      <th>ess_gene_indispensability_score</th>\n",
       "      <th>ghis_ghis</th>\n",
       "      <th>loftool_loftool_score</th>\n",
       "      <th>prec_prec</th>\n",
       "      <th>exac_gene_exac_del_score</th>\n",
       "      <th>exac_gene_exac_dup_score</th>\n",
       "      <th>exac_gene_exac_cnv_score</th>\n",
       "      <th>biogrid_counts</th>\n",
       "      <th>intact_counts</th>\n",
       "      <th>gnomad_gene_oe_lof_min</th>\n",
       "      <th>gnomad_gene_oe_mis_min</th>\n",
       "      <th>gnomad_gene_oe_syn_min</th>\n",
       "      <th>gnomad_gene_lof_z_max</th>\n",
       "      <th>gnomad_gene_mis_z_max</th>\n",
       "      <th>gnomad_gene_syn_z_max</th>\n",
       "      <th>gnomad_gene_pLI_max</th>\n",
       "      <th>gnomad_gene_pRec_max</th>\n",
       "      <th>gnomad_gene_pNull_max</th>\n",
       "    </tr>\n",
       "  </thead>\n",
       "  <tbody>\n",
       "    <tr>\n",
       "      <th>0</th>\n",
       "      <td>10.868426</td>\n",
       "      <td>1.590552</td>\n",
       "      <td>2.439182</td>\n",
       "      <td>2.569779</td>\n",
       "      <td>0.879253</td>\n",
       "      <td>1.722098</td>\n",
       "      <td>1.552247</td>\n",
       "      <td>0.0</td>\n",
       "      <td>0.0</td>\n",
       "      <td>0.170430</td>\n",
       "      <td>4.201969</td>\n",
       "      <td>6.486411</td>\n",
       "      <td>0.697165</td>\n",
       "      <td>1.090882</td>\n",
       "      <td>0.359217</td>\n",
       "      <td>1.335223</td>\n",
       "      <td>1.168422</td>\n",
       "      <td>0.088397</td>\n",
       "      <td>0.976050</td>\n",
       "      <td>0.000000</td>\n",
       "      <td>2.608216</td>\n",
       "      <td>4.522870</td>\n",
       "      <td>1.608828</td>\n",
       "      <td>0.539522</td>\n",
       "      <td>0.082942</td>\n",
       "      <td>2.158595e+00</td>\n",
       "      <td>0.850952</td>\n",
       "      <td>0.000002</td>\n",
       "    </tr>\n",
       "    <tr>\n",
       "      <th>1</th>\n",
       "      <td>10.120862</td>\n",
       "      <td>1.794469</td>\n",
       "      <td>2.439182</td>\n",
       "      <td>2.598390</td>\n",
       "      <td>0.768659</td>\n",
       "      <td>1.614417</td>\n",
       "      <td>1.502090</td>\n",
       "      <td>0.0</td>\n",
       "      <td>0.0</td>\n",
       "      <td>0.119978</td>\n",
       "      <td>3.610210</td>\n",
       "      <td>7.856037</td>\n",
       "      <td>3.009636</td>\n",
       "      <td>1.090505</td>\n",
       "      <td>0.271187</td>\n",
       "      <td>1.142469</td>\n",
       "      <td>0.875364</td>\n",
       "      <td>0.692442</td>\n",
       "      <td>2.016103</td>\n",
       "      <td>1.704187</td>\n",
       "      <td>3.544491</td>\n",
       "      <td>3.857900</td>\n",
       "      <td>0.687792</td>\n",
       "      <td>0.215914</td>\n",
       "      <td>0.414840</td>\n",
       "      <td>2.060528e-04</td>\n",
       "      <td>1.987822</td>\n",
       "      <td>2.275455</td>\n",
       "    </tr>\n",
       "    <tr>\n",
       "      <th>2</th>\n",
       "      <td>9.507476</td>\n",
       "      <td>0.526785</td>\n",
       "      <td>0.002439</td>\n",
       "      <td>0.015606</td>\n",
       "      <td>0.030978</td>\n",
       "      <td>0.529598</td>\n",
       "      <td>1.523209</td>\n",
       "      <td>0.0</td>\n",
       "      <td>0.0</td>\n",
       "      <td>0.040300</td>\n",
       "      <td>3.610210</td>\n",
       "      <td>5.791955</td>\n",
       "      <td>1.739800</td>\n",
       "      <td>0.387070</td>\n",
       "      <td>-0.596185</td>\n",
       "      <td>-1.268703</td>\n",
       "      <td>-1.143907</td>\n",
       "      <td>0.054020</td>\n",
       "      <td>0.304016</td>\n",
       "      <td>1.466060</td>\n",
       "      <td>3.369272</td>\n",
       "      <td>4.914976</td>\n",
       "      <td>0.783805</td>\n",
       "      <td>0.132470</td>\n",
       "      <td>-0.688296</td>\n",
       "      <td>4.987171e-07</td>\n",
       "      <td>2.427669</td>\n",
       "      <td>1.395911</td>\n",
       "    </tr>\n",
       "    <tr>\n",
       "      <th>3</th>\n",
       "      <td>10.734248</td>\n",
       "      <td>1.587154</td>\n",
       "      <td>2.390398</td>\n",
       "      <td>2.598390</td>\n",
       "      <td>0.416321</td>\n",
       "      <td>1.204999</td>\n",
       "      <td>1.412334</td>\n",
       "      <td>0.0</td>\n",
       "      <td>0.0</td>\n",
       "      <td>0.034917</td>\n",
       "      <td>3.610210</td>\n",
       "      <td>7.910097</td>\n",
       "      <td>0.361032</td>\n",
       "      <td>0.424913</td>\n",
       "      <td>-0.430647</td>\n",
       "      <td>1.041124</td>\n",
       "      <td>0.353531</td>\n",
       "      <td>0.004911</td>\n",
       "      <td>0.000000</td>\n",
       "      <td>1.332738</td>\n",
       "      <td>3.339014</td>\n",
       "      <td>4.826134</td>\n",
       "      <td>0.486763</td>\n",
       "      <td>0.240735</td>\n",
       "      <td>-0.643603</td>\n",
       "      <td>4.761987e-02</td>\n",
       "      <td>2.176000</td>\n",
       "      <td>0.549797</td>\n",
       "    </tr>\n",
       "    <tr>\n",
       "      <th>4</th>\n",
       "      <td>11.175119</td>\n",
       "      <td>1.658525</td>\n",
       "      <td>2.431864</td>\n",
       "      <td>2.600991</td>\n",
       "      <td>0.756789</td>\n",
       "      <td>1.602301</td>\n",
       "      <td>1.552247</td>\n",
       "      <td>0.0</td>\n",
       "      <td>0.0</td>\n",
       "      <td>0.157971</td>\n",
       "      <td>3.610210</td>\n",
       "      <td>6.842738</td>\n",
       "      <td>1.873630</td>\n",
       "      <td>0.500562</td>\n",
       "      <td>0.291845</td>\n",
       "      <td>0.382289</td>\n",
       "      <td>0.526864</td>\n",
       "      <td>0.049109</td>\n",
       "      <td>0.048002</td>\n",
       "      <td>0.864972</td>\n",
       "      <td>2.960826</td>\n",
       "      <td>4.459015</td>\n",
       "      <td>1.377667</td>\n",
       "      <td>0.632400</td>\n",
       "      <td>0.239368</td>\n",
       "      <td>3.844806e-02</td>\n",
       "      <td>2.490361</td>\n",
       "      <td>0.000051</td>\n",
       "    </tr>\n",
       "  </tbody>\n",
       "</table>\n",
       "</div>"
      ],
      "text/plain": [
       "   gerp_gerp_nr  gerp_gerp_rs  ...  gnomad_gene_pRec_max  gnomad_gene_pNull_max\n",
       "0     10.868426      1.590552  ...              0.850952               0.000002\n",
       "1     10.120862      1.794469  ...              1.987822               2.275455\n",
       "2      9.507476      0.526785  ...              2.427669               1.395911\n",
       "3     10.734248      1.587154  ...              2.176000               0.549797\n",
       "4     11.175119      1.658525  ...              2.490361               0.000051\n",
       "\n",
       "[5 rows x 28 columns]"
      ]
     },
     "execution_count": 14,
     "metadata": {
      "tags": []
     },
     "output_type": "execute_result"
    }
   ],
   "source": [
    "dfXtmp_numeric_transformed = pd.DataFrame(Xtmp_num_transformed,columns=Xtmp_num.columns)\n",
    "print(dfXtmp_numeric_transformed.shape)\n",
    "dfXtmp_numeric_transformed.head()"
   ]
  },
  {
   "cell_type": "markdown",
   "metadata": {
    "colab_type": "text",
    "id": "Omz93DJWL351"
   },
   "source": [
    "## Veamos que  pasó con las escala de las variables"
   ]
  },
  {
   "cell_type": "code",
   "execution_count": 15,
   "metadata": {
    "colab": {
     "base_uri": "https://localhost:8080/",
     "height": 414
    },
    "colab_type": "code",
    "id": "5X4INJDRL353",
    "outputId": "2e5ac0ec-beaa-45eb-cc80-d902bb67431c"
   },
   "outputs": [
    {
     "name": "stdout",
     "output_type": "stream",
     "text": [
      "gerp_gerp_nr                   1.0\n",
      "gerp_gerp_rs                   1.0\n",
      "phastcons_phastcons100_vert    1.0\n",
      "phastcons_phastcons30_mamm     1.0\n",
      "phylop_phylop100_vert          1.0\n",
      "dtype: float64\n"
     ]
    },
    {
     "data": {
      "text/plain": [
       "Text(0.5, 1.0, 'Feature scales before normalization')"
      ]
     },
     "execution_count": 15,
     "metadata": {
      "tags": []
     },
     "output_type": "execute_result"
    },
    {
     "data": {
      "image/png": "[encoded data removed]",
      "text/plain": [
       "<Figure size 432x288 with 1 Axes>"
      ]
     },
     "metadata": {
      "needs_background": "light",
      "tags": []
     },
     "output_type": "display_data"
    }
   ],
   "source": [
    "std_old = Xtmp_num.apply(np.std)\n",
    "\n",
    "std_new = dfXtmp_numeric_transformed.apply(np.std)\n",
    "\n",
    "print(std_new.head(5))\n",
    "\n",
    "ax = std_old.apply(lambda x: np.log2(x+1)).hist(bins = 30)\n",
    "ax.set_xlabel('log2 (std)')\n",
    "ax.set_ylabel('Numero de features')\n",
    "\n",
    "ax.set_title('Feature scales before normalization')"
   ]
  },
  {
   "cell_type": "markdown",
   "metadata": {
    "colab_type": "text",
    "id": "ck2iUVZGL358"
   },
   "source": [
    "#### pregunta: \n",
    "* Que consecuencias puede traer que haya variables con tanta diferencia en su escala?"
   ]
  },
  {
   "cell_type": "markdown",
   "metadata": {
    "colab_type": "text",
    "id": "1RS5N-qYL35-"
   },
   "source": [
    "# Ya sabemos preprocesar variables categóricas, y variables numéricas\n",
    "\n",
    "##### Ahora vamos a hacer un único preprocesamiento que unifique todo lo que vimos:\n",
    "\n",
    "* nos vamo a valer de ColumnTransformer, que nos permite hacer distintas operaciones sobre distintos grupos de feautres"
   ]
  },
  {
   "cell_type": "code",
   "execution_count": 16,
   "metadata": {
    "colab": {},
    "colab_type": "code",
    "id": "jtAEAZZYL35_"
   },
   "outputs": [],
   "source": [
    "## estas 3 líneas ya fueron corrias antes\n",
    "#categorical_feature_mask = X_train.dtypes==object       # esto nos da un vector booleano \n",
    "#categorical_columns = X_train.columns[categorical_feature_mask].tolist()  # acá picnhamos los nombres de esas columnas\n",
    "#numerical_columns = X_train.columns[~X_train.columns.isin(categorical_columns)] # defino las numéricas como el complemento de las categóricas \n",
    "\n",
    "preprocessor = ColumnTransformer(transformers = [\n",
    "    ('num', numeric_transformer,numerical_columns),\n",
    "    ('cat', categorical_transformer,categorical_columns)\n",
    "])\n",
    "\n",
    "X_train_both_tranformations = preprocessor.fit_transform(X_train)\n",
    "\n"
   ]
  },
  {
   "cell_type": "markdown",
   "metadata": {
    "colab_type": "text",
    "id": "rIsSTSxiL36C"
   },
   "source": [
    "##### Pensalo un segundo, hiciste algo Súper potente: definiste dos pipelines (numeric_transformer, y categorical_transformer)\n",
    "### y luego los uniste en un único proceso!! \n",
    "Tenemos nuestro 'preprocessor', que vamos a concatenar luego con distintos modelos de M.Learning\n"
   ]
  },
  {
   "cell_type": "code",
   "execution_count": 17,
   "metadata": {
    "colab": {},
    "colab_type": "code",
    "id": "nnrSKBjTL36C"
   },
   "outputs": [],
   "source": [
    "transf = preprocessor.transformers_\n",
    "\n",
    "numeric_names = preprocessor.transformers_[0][2].tolist()\n",
    "categorical_output_names = preprocessor.named_transformers_['cat'].named_steps['onehot'].get_feature_names().tolist()\n",
    "\n",
    "cols = numeric_names + categorical_output_names  # ver nota abajo\n"
   ]
  },
  {
   "cell_type": "markdown",
   "metadata": {
    "colab_type": "text",
    "id": "UhCW_F57L36G"
   },
   "source": [
    "#### ColumnTransformer \n",
    "* va concatenando las columnas que procesa en el orden que nosotros hayamos definido los stetps. \n",
    "#### Hay que ser muy cuidadoso de no pifiarle en estas cosas y entender bien la forma en que está trabajando nuestro pipeline\n",
    "##### Veamosslo"
   ]
  },
  {
   "cell_type": "code",
   "execution_count": 18,
   "metadata": {
    "colab": {
     "base_uri": "https://localhost:8080/",
     "height": 275
    },
    "colab_type": "code",
    "id": "3dhPL1hVL36G",
    "outputId": "e27a1b27-c311-4762-b38f-e2b2e814d356"
   },
   "outputs": [
    {
     "data": {
      "text/html": [
       "<div>\n",
       "<style scoped>\n",
       "    .dataframe tbody tr th:only-of-type {\n",
       "        vertical-align: middle;\n",
       "    }\n",
       "\n",
       "    .dataframe tbody tr th {\n",
       "        vertical-align: top;\n",
       "    }\n",
       "\n",
       "    .dataframe thead th {\n",
       "        text-align: right;\n",
       "    }\n",
       "</style>\n",
       "<table border=\"1\" class=\"dataframe\">\n",
       "  <thead>\n",
       "    <tr style=\"text-align: right;\">\n",
       "      <th></th>\n",
       "      <th>gerp_gerp_nr</th>\n",
       "      <th>gerp_gerp_rs</th>\n",
       "      <th>phastcons_phastcons100_vert</th>\n",
       "      <th>phastcons_phastcons30_mamm</th>\n",
       "      <th>phylop_phylop100_vert</th>\n",
       "      <th>phylop_phylop100_vert_r</th>\n",
       "      <th>phylop_phylop30_mamm</th>\n",
       "      <th>gtex_counts</th>\n",
       "      <th>repeat_flag</th>\n",
       "      <th>cosmic_gene_occurrences</th>\n",
       "      <th>ess_gene_indispensability_score</th>\n",
       "      <th>ghis_ghis</th>\n",
       "      <th>loftool_loftool_score</th>\n",
       "      <th>prec_prec</th>\n",
       "      <th>exac_gene_exac_del_score</th>\n",
       "      <th>exac_gene_exac_dup_score</th>\n",
       "      <th>exac_gene_exac_cnv_score</th>\n",
       "      <th>biogrid_counts</th>\n",
       "      <th>intact_counts</th>\n",
       "      <th>gnomad_gene_oe_lof_min</th>\n",
       "      <th>gnomad_gene_oe_mis_min</th>\n",
       "      <th>gnomad_gene_oe_syn_min</th>\n",
       "      <th>gnomad_gene_lof_z_max</th>\n",
       "      <th>gnomad_gene_mis_z_max</th>\n",
       "      <th>gnomad_gene_syn_z_max</th>\n",
       "      <th>gnomad_gene_pLI_max</th>\n",
       "      <th>gnomad_gene_pRec_max</th>\n",
       "      <th>gnomad_gene_pNull_max</th>\n",
       "      <th>x0_ABC transporter-like</th>\n",
       "      <th>x0_Aromatic amino acid hydroxylase, C-terminal</th>\n",
       "      <th>x0_EGF-like domain</th>\n",
       "      <th>x0_Fibronectin type III</th>\n",
       "      <th>x0_Ion transport domain</th>\n",
       "      <th>x0_Serine-threonine/tyrosine-protein kinase, catalytic domain</th>\n",
       "      <th>x0_missing</th>\n",
       "      <th>x0_others</th>\n",
       "      <th>x1_E</th>\n",
       "      <th>x1_N</th>\n",
       "      <th>x1_missing</th>\n",
       "      <th>x2_E</th>\n",
       "      <th>x2_N</th>\n",
       "      <th>x2_missing</th>\n",
       "      <th>x3_E</th>\n",
       "      <th>x3_N</th>\n",
       "      <th>x3_S</th>\n",
       "      <th>x3_missing</th>\n",
       "      <th>x4_E</th>\n",
       "      <th>x4_H</th>\n",
       "      <th>x4_K</th>\n",
       "      <th>x4_N</th>\n",
       "      <th>x4_missing</th>\n",
       "      <th>x5_N</th>\n",
       "      <th>x5_Y</th>\n",
       "      <th>x5_missing</th>\n",
       "    </tr>\n",
       "  </thead>\n",
       "  <tbody>\n",
       "    <tr>\n",
       "      <th>0</th>\n",
       "      <td>10.868426</td>\n",
       "      <td>1.590552</td>\n",
       "      <td>2.439182</td>\n",
       "      <td>2.569779</td>\n",
       "      <td>0.879253</td>\n",
       "      <td>1.722098</td>\n",
       "      <td>1.552247</td>\n",
       "      <td>0.0</td>\n",
       "      <td>0.0</td>\n",
       "      <td>0.170430</td>\n",
       "      <td>4.201969</td>\n",
       "      <td>6.486411</td>\n",
       "      <td>0.697165</td>\n",
       "      <td>1.090882</td>\n",
       "      <td>0.359217</td>\n",
       "      <td>1.335223</td>\n",
       "      <td>1.168422</td>\n",
       "      <td>0.088397</td>\n",
       "      <td>0.976050</td>\n",
       "      <td>0.000000</td>\n",
       "      <td>2.608216</td>\n",
       "      <td>4.522870</td>\n",
       "      <td>1.608828</td>\n",
       "      <td>0.539522</td>\n",
       "      <td>0.082942</td>\n",
       "      <td>2.158595e+00</td>\n",
       "      <td>0.850952</td>\n",
       "      <td>0.000002</td>\n",
       "      <td>0.0</td>\n",
       "      <td>0.0</td>\n",
       "      <td>0.0</td>\n",
       "      <td>0.0</td>\n",
       "      <td>0.0</td>\n",
       "      <td>0.0</td>\n",
       "      <td>1.0</td>\n",
       "      <td>0.0</td>\n",
       "      <td>1.0</td>\n",
       "      <td>0.0</td>\n",
       "      <td>0.0</td>\n",
       "      <td>0.0</td>\n",
       "      <td>1.0</td>\n",
       "      <td>0.0</td>\n",
       "      <td>0.0</td>\n",
       "      <td>0.0</td>\n",
       "      <td>1.0</td>\n",
       "      <td>0.0</td>\n",
       "      <td>0.0</td>\n",
       "      <td>0.0</td>\n",
       "      <td>0.0</td>\n",
       "      <td>1.0</td>\n",
       "      <td>0.0</td>\n",
       "      <td>1.0</td>\n",
       "      <td>0.0</td>\n",
       "      <td>0.0</td>\n",
       "    </tr>\n",
       "    <tr>\n",
       "      <th>1</th>\n",
       "      <td>10.120862</td>\n",
       "      <td>1.794469</td>\n",
       "      <td>2.439182</td>\n",
       "      <td>2.598390</td>\n",
       "      <td>0.768659</td>\n",
       "      <td>1.614417</td>\n",
       "      <td>1.502090</td>\n",
       "      <td>0.0</td>\n",
       "      <td>0.0</td>\n",
       "      <td>0.119978</td>\n",
       "      <td>3.610210</td>\n",
       "      <td>7.856037</td>\n",
       "      <td>3.009636</td>\n",
       "      <td>1.090505</td>\n",
       "      <td>0.271187</td>\n",
       "      <td>1.142469</td>\n",
       "      <td>0.875364</td>\n",
       "      <td>0.692442</td>\n",
       "      <td>2.016103</td>\n",
       "      <td>1.704187</td>\n",
       "      <td>3.544491</td>\n",
       "      <td>3.857900</td>\n",
       "      <td>0.687792</td>\n",
       "      <td>0.215914</td>\n",
       "      <td>0.414840</td>\n",
       "      <td>2.060528e-04</td>\n",
       "      <td>1.987822</td>\n",
       "      <td>2.275455</td>\n",
       "      <td>0.0</td>\n",
       "      <td>0.0</td>\n",
       "      <td>0.0</td>\n",
       "      <td>0.0</td>\n",
       "      <td>0.0</td>\n",
       "      <td>0.0</td>\n",
       "      <td>1.0</td>\n",
       "      <td>0.0</td>\n",
       "      <td>0.0</td>\n",
       "      <td>0.0</td>\n",
       "      <td>1.0</td>\n",
       "      <td>0.0</td>\n",
       "      <td>0.0</td>\n",
       "      <td>1.0</td>\n",
       "      <td>0.0</td>\n",
       "      <td>0.0</td>\n",
       "      <td>0.0</td>\n",
       "      <td>1.0</td>\n",
       "      <td>0.0</td>\n",
       "      <td>0.0</td>\n",
       "      <td>0.0</td>\n",
       "      <td>0.0</td>\n",
       "      <td>1.0</td>\n",
       "      <td>0.0</td>\n",
       "      <td>1.0</td>\n",
       "      <td>0.0</td>\n",
       "    </tr>\n",
       "    <tr>\n",
       "      <th>2</th>\n",
       "      <td>9.507476</td>\n",
       "      <td>0.526785</td>\n",
       "      <td>0.002439</td>\n",
       "      <td>0.015606</td>\n",
       "      <td>0.030978</td>\n",
       "      <td>0.529598</td>\n",
       "      <td>1.523209</td>\n",
       "      <td>0.0</td>\n",
       "      <td>0.0</td>\n",
       "      <td>0.040300</td>\n",
       "      <td>3.610210</td>\n",
       "      <td>5.791955</td>\n",
       "      <td>1.739800</td>\n",
       "      <td>0.387070</td>\n",
       "      <td>-0.596185</td>\n",
       "      <td>-1.268703</td>\n",
       "      <td>-1.143907</td>\n",
       "      <td>0.054020</td>\n",
       "      <td>0.304016</td>\n",
       "      <td>1.466060</td>\n",
       "      <td>3.369272</td>\n",
       "      <td>4.914976</td>\n",
       "      <td>0.783805</td>\n",
       "      <td>0.132470</td>\n",
       "      <td>-0.688296</td>\n",
       "      <td>4.987171e-07</td>\n",
       "      <td>2.427669</td>\n",
       "      <td>1.395911</td>\n",
       "      <td>0.0</td>\n",
       "      <td>0.0</td>\n",
       "      <td>0.0</td>\n",
       "      <td>0.0</td>\n",
       "      <td>0.0</td>\n",
       "      <td>0.0</td>\n",
       "      <td>1.0</td>\n",
       "      <td>0.0</td>\n",
       "      <td>0.0</td>\n",
       "      <td>0.0</td>\n",
       "      <td>1.0</td>\n",
       "      <td>0.0</td>\n",
       "      <td>0.0</td>\n",
       "      <td>1.0</td>\n",
       "      <td>0.0</td>\n",
       "      <td>0.0</td>\n",
       "      <td>0.0</td>\n",
       "      <td>1.0</td>\n",
       "      <td>0.0</td>\n",
       "      <td>0.0</td>\n",
       "      <td>0.0</td>\n",
       "      <td>0.0</td>\n",
       "      <td>1.0</td>\n",
       "      <td>1.0</td>\n",
       "      <td>0.0</td>\n",
       "      <td>0.0</td>\n",
       "    </tr>\n",
       "    <tr>\n",
       "      <th>3</th>\n",
       "      <td>10.734248</td>\n",
       "      <td>1.587154</td>\n",
       "      <td>2.390398</td>\n",
       "      <td>2.598390</td>\n",
       "      <td>0.416321</td>\n",
       "      <td>1.204999</td>\n",
       "      <td>1.412334</td>\n",
       "      <td>0.0</td>\n",
       "      <td>0.0</td>\n",
       "      <td>0.034917</td>\n",
       "      <td>3.610210</td>\n",
       "      <td>7.910097</td>\n",
       "      <td>0.361032</td>\n",
       "      <td>0.424913</td>\n",
       "      <td>-0.430647</td>\n",
       "      <td>1.041124</td>\n",
       "      <td>0.353531</td>\n",
       "      <td>0.004911</td>\n",
       "      <td>0.000000</td>\n",
       "      <td>1.332738</td>\n",
       "      <td>3.339014</td>\n",
       "      <td>4.826134</td>\n",
       "      <td>0.486763</td>\n",
       "      <td>0.240735</td>\n",
       "      <td>-0.643603</td>\n",
       "      <td>4.761987e-02</td>\n",
       "      <td>2.176000</td>\n",
       "      <td>0.549797</td>\n",
       "      <td>0.0</td>\n",
       "      <td>0.0</td>\n",
       "      <td>0.0</td>\n",
       "      <td>0.0</td>\n",
       "      <td>0.0</td>\n",
       "      <td>0.0</td>\n",
       "      <td>1.0</td>\n",
       "      <td>0.0</td>\n",
       "      <td>0.0</td>\n",
       "      <td>0.0</td>\n",
       "      <td>1.0</td>\n",
       "      <td>0.0</td>\n",
       "      <td>0.0</td>\n",
       "      <td>1.0</td>\n",
       "      <td>0.0</td>\n",
       "      <td>0.0</td>\n",
       "      <td>0.0</td>\n",
       "      <td>1.0</td>\n",
       "      <td>0.0</td>\n",
       "      <td>0.0</td>\n",
       "      <td>0.0</td>\n",
       "      <td>0.0</td>\n",
       "      <td>1.0</td>\n",
       "      <td>0.0</td>\n",
       "      <td>1.0</td>\n",
       "      <td>0.0</td>\n",
       "    </tr>\n",
       "    <tr>\n",
       "      <th>4</th>\n",
       "      <td>11.175119</td>\n",
       "      <td>1.658525</td>\n",
       "      <td>2.431864</td>\n",
       "      <td>2.600991</td>\n",
       "      <td>0.756789</td>\n",
       "      <td>1.602301</td>\n",
       "      <td>1.552247</td>\n",
       "      <td>0.0</td>\n",
       "      <td>0.0</td>\n",
       "      <td>0.157971</td>\n",
       "      <td>3.610210</td>\n",
       "      <td>6.842738</td>\n",
       "      <td>1.873630</td>\n",
       "      <td>0.500562</td>\n",
       "      <td>0.291845</td>\n",
       "      <td>0.382289</td>\n",
       "      <td>0.526864</td>\n",
       "      <td>0.049109</td>\n",
       "      <td>0.048002</td>\n",
       "      <td>0.864972</td>\n",
       "      <td>2.960826</td>\n",
       "      <td>4.459015</td>\n",
       "      <td>1.377667</td>\n",
       "      <td>0.632400</td>\n",
       "      <td>0.239368</td>\n",
       "      <td>3.844806e-02</td>\n",
       "      <td>2.490361</td>\n",
       "      <td>0.000051</td>\n",
       "      <td>0.0</td>\n",
       "      <td>0.0</td>\n",
       "      <td>0.0</td>\n",
       "      <td>0.0</td>\n",
       "      <td>0.0</td>\n",
       "      <td>0.0</td>\n",
       "      <td>1.0</td>\n",
       "      <td>0.0</td>\n",
       "      <td>0.0</td>\n",
       "      <td>0.0</td>\n",
       "      <td>1.0</td>\n",
       "      <td>0.0</td>\n",
       "      <td>0.0</td>\n",
       "      <td>1.0</td>\n",
       "      <td>0.0</td>\n",
       "      <td>0.0</td>\n",
       "      <td>0.0</td>\n",
       "      <td>1.0</td>\n",
       "      <td>0.0</td>\n",
       "      <td>0.0</td>\n",
       "      <td>0.0</td>\n",
       "      <td>0.0</td>\n",
       "      <td>1.0</td>\n",
       "      <td>1.0</td>\n",
       "      <td>0.0</td>\n",
       "      <td>0.0</td>\n",
       "    </tr>\n",
       "  </tbody>\n",
       "</table>\n",
       "</div>"
      ],
      "text/plain": [
       "   gerp_gerp_nr  gerp_gerp_rs  ...  x5_Y  x5_missing\n",
       "0     10.868426      1.590552  ...   0.0         0.0\n",
       "1     10.120862      1.794469  ...   1.0         0.0\n",
       "2      9.507476      0.526785  ...   0.0         0.0\n",
       "3     10.734248      1.587154  ...   1.0         0.0\n",
       "4     11.175119      1.658525  ...   0.0         0.0\n",
       "\n",
       "[5 rows x 54 columns]"
      ]
     },
     "execution_count": 18,
     "metadata": {
      "tags": []
     },
     "output_type": "execute_result"
    }
   ],
   "source": [
    "pd.DataFrame(X_train_both_tranformations,columns = cols).head()"
   ]
  },
  {
   "cell_type": "markdown",
   "metadata": {
    "colab_type": "text",
    "id": "KH2L5CKm9STw"
   },
   "source": [
    "## Unos comentarios finales sobre tratamiento de variables categóricas. \n",
    "* utilizamos sólo un método, pero es importante saber que hay varias formas de lidiar con variables categóricas.\n",
    "### Por ejemplo,\n",
    "* Target encoder (para cada categoría de una variable se calcula la proporción (promedio) de elementos positivos en la variable target). \n",
    "    * Bien utilizado puede ser de gran utilidad, pero es muy fácil caer en problemas de sobreajuste por estar utilizando la variable objetivo en la construcción de una variable. \n",
    "    * Hay que ser muy cuidadoxs.\n",
    " \n",
    "    * Hay muchas otras formas de codificar la variable.\n",
    "    * Les dejo este link para que tengan un pantallaso más amplio de lo que existe __[category encoders](https://www.kaggle.com/discdiver/category-encoders-examples)__\n",
    "\n",
    "\n"
   ]
  },
  {
   "cell_type": "markdown",
   "metadata": {
    "colab_type": "text",
    "id": "vc4bAPmHL36N"
   },
   "source": [
    "# Hahora, vamos a integrar nuestro preprocessor con un modelo súper simple de ML. "
   ]
  },
  {
   "cell_type": "code",
   "execution_count": 19,
   "metadata": {
    "colab": {
     "base_uri": "https://localhost:8080/",
     "height": 71
    },
    "colab_type": "code",
    "id": "eTApYZmWL36O",
    "outputId": "b05822d9-ffe3-4580-fa3a-6e644561cdce"
   },
   "outputs": [
    {
     "name": "stderr",
     "output_type": "stream",
     "text": [
      "/usr/local/lib/python3.6/dist-packages/sklearn/utils/validation.py:760: DataConversionWarning: A column-vector y was passed when a 1d array was expected. Please change the shape of y to (n_samples, ), for example using ravel().\n",
      "  y = column_or_1d(y, warn=True)\n"
     ]
    }
   ],
   "source": [
    "### Construimos el Pipeline\n",
    "## Regresion Logistica SIN regularización\n",
    "pipeline = Pipeline(steps = [('preprocessing',preprocessor),\n",
    "                             ('clasificador',LogisticRegression(penalty = 'none',solver = 'lbfgs',max_iter=10000))])\n",
    "\n",
    "#Entrenamiento\n",
    "pipeline = pipeline.fit(X_train, y_train)\n",
    "\n",
    "#Extraemos las predicciones\n",
    "predictions = pd.Series(pipeline.predict(X_test))"
   ]
  },
  {
   "cell_type": "markdown",
   "metadata": {
    "colab_type": "text",
    "id": "C2_c-NSSL36R"
   },
   "source": [
    "* Y en solo 3 líneas de código ahora, hemos generado un modelo con su proprio preprocesamiento de datos incluido\n",
    "\n",
    "* Que el preprocesamiento esté inmerso en el modelo, y no se haga por fuera del mismo nos aportará robustez, poder de generalización entre otras ventajas. Además, se podrá meter dentro de nuestros procedimientos de validación cruzada con total prolijidad "
   ]
  },
  {
   "cell_type": "markdown",
   "metadata": {
    "colab_type": "text",
    "id": "cBui_qbJL36S"
   },
   "source": [
    "#### Notas para finalizar, sobre preprocesado de datos \n",
    "* 1) No imputar ni normalizar los features categóricos como si fueran continuos. \n",
    "* Para evitar este fue fundamental nuestra unión de pipelines. \n",
    "\n",
    "\n",
    "* 2) Un error general e importante de entender, es evitar aplicar transformaciones globales al dataset antes de hacer el train-test-split (o incluso despues de haberlo hecho) sin incluirlos en el modelo  mismo. \n",
    "*  Aplicado una operación global al X_train te lleva a una mala prárctica de validación cruzada (veremos eso luego eso).\n",
    "* porque conduce a una sobreestimación de la performance en el proceso de validación cruzada. \n",
    "\n",
    "* Esos implica que, cuando hagamos validación cruzada, y separemos nuestro dataset en grupos para entrenar y otros para validar, el set con que se entrene va a tener info de la distribución de features  en el evaluation set.\n"
   ]
  },
  {
   "cell_type": "markdown",
   "metadata": {
    "colab_type": "text",
    "id": "jn9YJugrL36S"
   },
   "source": [
    "## Ahora exploremos un poco los resultados de este modelo simple que construimos"
   ]
  },
  {
   "cell_type": "code",
   "execution_count": 20,
   "metadata": {
    "colab": {
     "base_uri": "https://localhost:8080/",
     "height": 204
    },
    "colab_type": "code",
    "id": "2v8scg7EL36T",
    "outputId": "9806b2b0-99f3-45f4-82c8-3183d6f15f3c"
   },
   "outputs": [
    {
     "data": {
      "text/html": [
       "<div>\n",
       "<style scoped>\n",
       "    .dataframe tbody tr th:only-of-type {\n",
       "        vertical-align: middle;\n",
       "    }\n",
       "\n",
       "    .dataframe tbody tr th {\n",
       "        vertical-align: top;\n",
       "    }\n",
       "\n",
       "    .dataframe thead th {\n",
       "        text-align: right;\n",
       "    }\n",
       "</style>\n",
       "<table border=\"1\" class=\"dataframe\">\n",
       "  <thead>\n",
       "    <tr style=\"text-align: right;\">\n",
       "      <th></th>\n",
       "      <th>beningn</th>\n",
       "      <th>pathog</th>\n",
       "    </tr>\n",
       "  </thead>\n",
       "  <tbody>\n",
       "    <tr>\n",
       "      <th>0</th>\n",
       "      <td>0.983357</td>\n",
       "      <td>1.664301e-02</td>\n",
       "    </tr>\n",
       "    <tr>\n",
       "      <th>1</th>\n",
       "      <td>0.869771</td>\n",
       "      <td>1.302292e-01</td>\n",
       "    </tr>\n",
       "    <tr>\n",
       "      <th>2</th>\n",
       "      <td>0.200640</td>\n",
       "      <td>7.993596e-01</td>\n",
       "    </tr>\n",
       "    <tr>\n",
       "      <th>3</th>\n",
       "      <td>0.999962</td>\n",
       "      <td>3.751377e-05</td>\n",
       "    </tr>\n",
       "    <tr>\n",
       "      <th>4</th>\n",
       "      <td>1.000000</td>\n",
       "      <td>6.135364e-61</td>\n",
       "    </tr>\n",
       "  </tbody>\n",
       "</table>\n",
       "</div>"
      ],
      "text/plain": [
       "    beningn        pathog\n",
       "0  0.983357  1.664301e-02\n",
       "1  0.869771  1.302292e-01\n",
       "2  0.200640  7.993596e-01\n",
       "3  0.999962  3.751377e-05\n",
       "4  1.000000  6.135364e-61"
      ]
     },
     "execution_count": 20,
     "metadata": {
      "tags": []
     },
     "output_type": "execute_result"
    }
   ],
   "source": [
    "probas = pd.DataFrame(pipeline.predict_proba(X_test),columns = ['beningn','pathog'])\n",
    "y_pred = probas['pathog']\n",
    "probas.head()"
   ]
  },
  {
   "cell_type": "markdown",
   "metadata": {
    "colab_type": "text",
    "id": "Vb9-Cc_3L36Y"
   },
   "source": [
    "## Cómo e distribuyen nuestro score?"
   ]
  },
  {
   "cell_type": "code",
   "execution_count": 21,
   "metadata": {
    "colab": {
     "base_uri": "https://localhost:8080/",
     "height": 282
    },
    "colab_type": "code",
    "id": "CWwX4Mj-L36Z",
    "outputId": "74d31561-a26d-4e29-c085-2b9adc0d5d81"
   },
   "outputs": [
    {
     "data": {
      "text/plain": [
       "<matplotlib.axes._subplots.AxesSubplot at 0x7f43c0ad4cf8>"
      ]
     },
     "execution_count": 21,
     "metadata": {
      "tags": []
     },
     "output_type": "execute_result"
    },
    {
     "data": {
      "image/png": "[encoded data removed]",
      "text/plain": [
       "<Figure size 432x288 with 1 Axes>"
      ]
     },
     "metadata": {
      "needs_background": "light",
      "tags": []
     },
     "output_type": "display_data"
    }
   ],
   "source": [
    "y_pred.hist(bins = 50)"
   ]
  },
  {
   "cell_type": "markdown",
   "metadata": {
    "colab_type": "text",
    "id": "HFTRhibNL36c"
   },
   "source": [
    "## Cuál es su performance? (AUCs)\n",
    "* AUC_roc\n",
    "* AUC_prcision_recall"
   ]
  },
  {
   "cell_type": "code",
   "execution_count": 22,
   "metadata": {
    "colab": {
     "base_uri": "https://localhost:8080/",
     "height": 311
    },
    "colab_type": "code",
    "id": "QHPf4kq4L36c",
    "outputId": "2af0efc0-f8c4-40f6-818c-4b6ca2da71d6"
   },
   "outputs": [
    {
     "data": {
      "text/plain": [
       "Text(0.5, 0.98, 'AUC - ROC & Prec-Recall')"
      ]
     },
     "execution_count": 22,
     "metadata": {
      "tags": []
     },
     "output_type": "execute_result"
    },
    {
     "data": {
      "image/png": "[encoded data removed]",
      "text/plain": [
       "<Figure size 432x288 with 2 Axes>"
      ]
     },
     "metadata": {
      "needs_background": "light",
      "tags": []
     },
     "output_type": "display_data"
    }
   ],
   "source": [
    "# para plotear\n",
    "fig, (ax1, ax2) = plt.subplots(1, 2)\n",
    "matplotlib.rcParams['figure.figsize'] = [8, 4]\n",
    "\n",
    "## ROC curve\n",
    "roc_auc = metrics.roc_auc_score(y_test, y_pred)\n",
    "fpr, tpr, thresholds = metrics.roc_curve(y_test, y_pred, pos_label=1)\n",
    "ax1.plot(fpr, tpr, color='darkorange', label=\"ROC curve of class %.2f\"%roc_auc)\n",
    "ax1.legend(loc=\"lower right\")\n",
    "\n",
    "## precision recall curve\n",
    "precision, recall, thresholds = metrics.precision_recall_curve(y_test, y_pred)\n",
    "aucpr =  metrics.average_precision_score(y_test, y_pred)\n",
    "ax2.plot(recall, precision, color='darkorange', label=\"AUC Prec-Recall %.2f\"%aucpr)\n",
    "ax2.legend(loc=\"lower right\")\n",
    "\n",
    "\n",
    "fig.suptitle('AUC - ROC & Prec-Recall')"
   ]
  },
  {
   "cell_type": "markdown",
   "metadata": {
    "colab_type": "text",
    "id": "jroPqT8RL36f"
   },
   "source": [
    "## Y donde en qué variables está concentrado el poder predictivo?"
   ]
  },
  {
   "cell_type": "code",
   "execution_count": 23,
   "metadata": {
    "colab": {
     "base_uri": "https://localhost:8080/",
     "height": 282
    },
    "colab_type": "code",
    "id": "3zbl-IdEL36g",
    "outputId": "049b35e7-e8ee-41d8-e639-c6a820e4c692"
   },
   "outputs": [
    {
     "data": {
      "text/plain": [
       "<matplotlib.axes._subplots.AxesSubplot at 0x7f43bdceadd8>"
      ]
     },
     "execution_count": 23,
     "metadata": {
      "tags": []
     },
     "output_type": "execute_result"
    },
    {
     "data": {
      "image/png": "[encoded data removed]",
      "text/plain": [
       "<Figure size 576x288 with 1 Axes>"
      ]
     },
     "metadata": {
      "needs_background": "light",
      "tags": []
     },
     "output_type": "display_data"
    }
   ],
   "source": [
    "lr = pipeline.named_steps['clasificador']\n",
    "coefs = pd.Series(lr.coef_[0])\n",
    "coefs.hist(bins =  50)"
   ]
  },
  {
   "cell_type": "code",
   "execution_count": 24,
   "metadata": {
    "colab": {
     "base_uri": "https://localhost:8080/",
     "height": 782
    },
    "colab_type": "code",
    "id": "JS3P8OGBL36j",
    "outputId": "3cd37ddf-5928-41a4-e8b4-8d244a97c738"
   },
   "outputs": [
    {
     "data": {
      "text/plain": [
       "x0_Fibronectin type III                                          13.123821\n",
       "x0_ABC transporter-like                                           6.875509\n",
       "phylop_phylop100_vert                                             4.978834\n",
       "x0_EGF-like domain                                                3.780044\n",
       "phastcons_phastcons100_vert                                       3.507127\n",
       "x0_Serine-threonine/tyrosine-protein kinase, catalytic domain     2.354554\n",
       "x3_S                                                              2.272200\n",
       "x2_E                                                              1.823140\n",
       "x5_N                                                              1.413372\n",
       "x0_Aromatic amino acid hydroxylase, C-terminal                    0.446810\n",
       "gnomad_gene_oe_lof_min                                            0.445699\n",
       "x4_E                                                              0.411472\n",
       "exac_gene_exac_del_score                                          0.286914\n",
       "x3_N                                                              0.278478\n",
       "cosmic_gene_occurrences                                           0.264478\n",
       "phylop_phylop30_mamm                                              0.229439\n",
       "exac_gene_exac_dup_score                                          0.093160\n",
       "x4_K                                                              0.044527\n",
       "phastcons_phastcons30_mamm                                        0.033204\n",
       "gerp_gerp_rs                                                      0.016555\n",
       "ess_gene_indispensability_score                                   0.005936\n",
       "gnomad_gene_syn_z_max                                            -0.097894\n",
       "x4_H                                                             -0.101802\n",
       "biogrid_counts                                                   -0.130698\n",
       "intact_counts                                                    -0.135948\n",
       "gnomad_gene_pRec_max                                             -0.185412\n",
       "x2_N                                                             -0.199918\n",
       "gnomad_gene_pLI_max                                              -0.281643\n",
       "gerp_gerp_nr                                                     -0.333581\n",
       "exac_gene_exac_cnv_score                                         -0.423501\n",
       "repeat_flag                                                      -0.428300\n",
       "x5_missing                                                       -0.454252\n",
       "gnomad_gene_oe_syn_min                                           -0.656257\n",
       "gnomad_gene_mis_z_max                                            -0.713646\n",
       "gnomad_gene_oe_mis_min                                           -0.721012\n",
       "x3_E                                                             -0.927456\n",
       "gnomad_gene_lof_z_max                                            -1.153722\n",
       "gnomad_gene_pNull_max                                            -1.280546\n",
       "loftool_loftool_score                                            -2.021930\n",
       "phylop_phylop100_vert_r                                          -3.688313\n",
       "x0_others                                                        -7.210221\n",
       "x0_missing                                                       -8.573667\n",
       "x0_Ion transport domain                                          -8.644212\n",
       "gtex_counts                                                     -28.349463\n",
       "dtype: float64"
      ]
     },
     "execution_count": 24,
     "metadata": {
      "tags": []
     },
     "output_type": "execute_result"
    }
   ],
   "source": [
    "coefs.index = cols\n",
    "coefs = coefs.sort_values(ascending=False)\n",
    "coefs[(coefs > 1.4)|(coefs<0.5)]"
   ]
  },
  {
   "cell_type": "markdown",
   "metadata": {
    "colab_type": "text",
    "id": "MxIHJwXdL36n"
   },
   "source": [
    "\n",
    "### Son robustos estos resultados? \n",
    "* El orden relativo de importancia fluctua con las itearaciones? En qué medida?\n",
    "\n",
    "\n",
    "### Cómo cambia si implementamos el término de regularización? \n",
    "\n",
    "* Que coeficientes sosbreviven al ir aumentando el término de regularización? \n",
    "* Esto depende de si usamos L1 o L2?\n"
   ]
  }
 ],
 "metadata": {
  "colab": {
   "collapsed_sections": [],
   "name": "wb1_preprocessing.ipynb",
   "provenance": []
  },
  "kernelspec": {
   "display_name": "Python 3",
   "language": "python",
   "name": "python3"
  },
  "language_info": {
   "codemirror_mode": {
    "name": "ipython",
    "version": 3
   },
   "file_extension": ".py",
   "mimetype": "text/x-python",
   "name": "python",
   "nbconvert_exporter": "python",
   "pygments_lexer": "ipython3",
   "version": "3.6.9"
  }
 },
 "nbformat": 4,
 "nbformat_minor": 1
}
