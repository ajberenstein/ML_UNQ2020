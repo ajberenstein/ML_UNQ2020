{
 "cells": [
  {
   "cell_type": "markdown",
   "metadata": {},
   "source": [
    "### Mounting your google drive on Colab Noetebook\n"
   ]
  },
  {
   "cell_type": "code",
   "execution_count": 1,
   "metadata": {},
   "outputs": [],
   "source": [
    "from google.colab import drive\n",
    "## esto te va a pedir autorización. \n",
    "# Entra al link. Dale los permisos. Copiate el passw y pegalo acá donde te lo pide\n",
    "drive.mount('/content/drive')"
   ]
  },
  {
   "cell_type": "code",
   "execution_count": 2,
   "metadata": {},
   "outputs": [],
   "source": [
    "## remplazá 'unqml'\n",
    "# por el nombre que le hayas puesto a esa carpeta en drive si usaste otro distinto\n",
    "%cd drive/My Drive/unqml/ML_UNQ2020/ "
   ]
  },
  {
   "cell_type": "code",
   "execution_count": 3,
   "metadata": {},
   "outputs": [
    {
     "name": "stdout",
     "output_type": "stream",
     "text": [
      "/home/ariel/repos/ML_UNQ2020\n"
     ]
    }
   ],
   "source": [
    "#%cd ../"
   ]
  },
  {
   "cell_type": "code",
   "execution_count": 4,
   "metadata": {},
   "outputs": [],
   "source": [
    "import pandas as pd\n",
    "import numpy as np\n",
    "from sklearn import metrics\n",
    "from scipy.stats import norm\n",
    "from matplotlib import pyplot as plt\n",
    "import matplotlib\n",
    "\n",
    "import scipy.stats as st\n",
    "\n",
    "%load_ext rpy2.ipython"
   ]
  },
  {
   "cell_type": "code",
   "execution_count": 5,
   "metadata": {},
   "outputs": [],
   "source": [
    "## Defino Heaviside function\n",
    "\n",
    "def H(t):\n",
    "    if(t>0):\n",
    "        return 1\n",
    "    elif(t<0):\n",
    "        return 0\n",
    "    else:\n",
    "        return 0.5\n"
   ]
  },
  {
   "cell_type": "code",
   "execution_count": 6,
   "metadata": {},
   "outputs": [
    {
     "data": {
      "text/plain": [
       "array([100,  99,  98,  97,  96,  95,  94,  93,  92])"
      ]
     },
     "metadata": {},
     "output_type": "display_data"
    },
    {
     "data": {
      "text/plain": [
       "array(['A', 'B', 'A', 'B', 'A', 'B', 'A', 'B', 'A'], dtype='<U1')"
      ]
     },
     "metadata": {},
     "output_type": "display_data"
    },
    {
     "data": {
      "text/plain": [
       "array([1, 0, 1, 0, 1, 0, 1, 0, 1])"
      ]
     },
     "metadata": {},
     "output_type": "display_data"
    }
   ],
   "source": [
    "N = 100\n",
    "score = N-np.arange(N)\n",
    "clase = np.array(['A','B']*int(N/2))\n",
    "binary_class = (clase == 'A')+0  # 1 si la clase es A, 0 si la clase es B\n",
    "display(score[0:9])\n",
    "display(clase[0:9])\n",
    "display(binary_class[0:9])"
   ]
  },
  {
   "cell_type": "code",
   "execution_count": 7,
   "metadata": {},
   "outputs": [
    {
     "name": "stdout",
     "output_type": "stream",
     "text": [
      "50 50\n"
     ]
    }
   ],
   "source": [
    "indA = np.where(clase == 'A')[0]\n",
    "indB = np.where(clase == 'B')[0]\n",
    "n1 = len(indA)\n",
    "n2 = len(indB)\n",
    "print(n1,n2)"
   ]
  },
  {
   "cell_type": "markdown",
   "metadata": {},
   "source": [
    "# AUC: area under curve"
   ]
  },
  {
   "cell_type": "code",
   "execution_count": 8,
   "metadata": {},
   "outputs": [
    {
     "data": {
      "text/plain": [
       "<matplotlib.legend.Legend at 0x7f6ad1c45cc0>"
      ]
     },
     "execution_count": 8,
     "metadata": {},
     "output_type": "execute_result"
    },
    {
     "data": {
      "image/png": "[encoded data removed]",
      "text/plain": [
       "<Figure size 432x288 with 1 Axes>"
      ]
     },
     "metadata": {
      "needs_background": "light"
     },
     "output_type": "display_data"
    }
   ],
   "source": [
    "fpr, tpr , _ = metrics.roc_curve(\n",
    "        y_true=binary_class,\n",
    "        y_score=score)\n",
    "\n",
    "auc = metrics.roc_auc_score(binary_class,score)\n",
    "\n",
    "plt.plot(fpr,tpr,label = 'auc %.3f'%auc)\n",
    "plt.ylim([0,1])\n",
    "plt.xlim([0,1])\n",
    "plt.legend()\n"
   ]
  },
  {
   "cell_type": "markdown",
   "metadata": {},
   "source": [
    "### AUC: point estimantion\n",
    "$\n",
    "\\theta = \\frac{1}{n.m} \\sum_{i=1}^{n}\\sum_{i=j}^{m}{H(X_i - Y_i)}\n",
    "$"
   ]
  },
  {
   "cell_type": "code",
   "execution_count": 9,
   "metadata": {},
   "outputs": [
    {
     "data": {
      "text/plain": [
       "2500"
      ]
     },
     "metadata": {},
     "output_type": "display_data"
    },
    {
     "data": {
      "text/plain": [
       "[1, 1, 1, 1, 1, 1, 1, 1, 1, 1]"
      ]
     },
     "metadata": {},
     "output_type": "display_data"
    },
    {
     "data": {
      "text/plain": [
       "[0, 0, 0, 0, 0, 0, 0, 0, 0]"
      ]
     },
     "metadata": {},
     "output_type": "display_data"
    }
   ],
   "source": [
    "theta_vector = []\n",
    "for i in indA:\n",
    "    for j in indB:\n",
    "        indicator = H(score[i]-score[j])\n",
    "        theta_vector.append(indicator)\n",
    "        \n",
    "display(len(theta_vector))     # Longitud: n1*n2 \n",
    "display(theta_vector[0:10])    # los primeros\n",
    "display(theta_vector[-10:-1])  # los últimos\n"
   ]
  },
  {
   "cell_type": "markdown",
   "metadata": {},
   "source": [
    "#### Y va a dar..."
   ]
  },
  {
   "cell_type": "code",
   "execution_count": 10,
   "metadata": {},
   "outputs": [
    {
     "data": {
      "text/plain": [
       "0.51"
      ]
     },
     "execution_count": 10,
     "metadata": {},
     "output_type": "execute_result"
    }
   ],
   "source": [
    "np.mean(theta_vector)  # Idem que por área bajo la curva"
   ]
  },
  {
   "cell_type": "markdown",
   "metadata": {},
   "source": [
    "# Ahora vamos por Mann-Whitney U test"
   ]
  },
  {
   "cell_type": "code",
   "execution_count": 11,
   "metadata": {},
   "outputs": [
    {
     "data": {
      "text/plain": [
       "1225.0"
      ]
     },
     "metadata": {},
     "output_type": "display_data"
    },
    {
     "data": {
      "text/plain": [
       "1225.0"
      ]
     },
     "metadata": {},
     "output_type": "display_data"
    }
   ],
   "source": [
    "mwu = st.mannwhitneyu(x= score[indA],y= score[indB])  \n",
    "display(mwu[0])\n",
    "\n",
    "### mmm\n",
    "#veamos que pasa con \n",
    "mwu = st.mannwhitneyu(x= score[indB],y= score[indA])  \n",
    "display(mwu[0])\n",
    "\n",
    "### MMMMM  da igual el estadísitcio U(A,B) = U(B,A) ? \n",
    "#No me gusta, vamos con R"
   ]
  },
  {
   "cell_type": "code",
   "execution_count": 12,
   "metadata": {},
   "outputs": [],
   "source": [
    "import rpy2.robjects as ro\n",
    "import rpy2.robjects.numpy2ri\n",
    "rpy2.robjects.numpy2ri.activate()\n",
    "\n",
    "# vamos con R\n",
    "ro.r('''\n",
    "wt <- wilcox.test    ### podría haber definido una función arbitraria,\n",
    "                                        #### pero sólo cargué al entorno global una función del paquete base de R\n",
    "''')\n",
    "wilcoxR = ro.globalenv['wt']"
   ]
  },
  {
   "cell_type": "code",
   "execution_count": 13,
   "metadata": {},
   "outputs": [
    {
     "data": {
      "text/plain": [
       "1225.0"
      ]
     },
     "metadata": {},
     "output_type": "display_data"
    },
    {
     "data": {
      "text/plain": [
       "1275.0"
      ]
     },
     "metadata": {},
     "output_type": "display_data"
    }
   ],
   "source": [
    "mwR = wilcoxR(x=score[indB],y=score[indA])\n",
    "display(mwR[0][0])\n",
    "\n",
    "\n",
    "mwR = wilcoxR(x=score[indA],y=score[indB])\n",
    "display(mwR[0][0])\n",
    "\n"
   ]
  },
  {
   "cell_type": "markdown",
   "metadata": {},
   "source": [
    "### Eso me gusta más, pues la suma de U1+U2 = n1*n2 (la suma de rankings) "
   ]
  },
  {
   "cell_type": "markdown",
   "metadata": {},
   "source": [
    "# recordemos\n",
    "$\n",
    "AUC = \\frac{U_1}{n1*n2}\n",
    "$"
   ]
  },
  {
   "cell_type": "code",
   "execution_count": 14,
   "metadata": {},
   "outputs": [
    {
     "data": {
      "text/plain": [
       "0.51"
      ]
     },
     "execution_count": 14,
     "metadata": {},
     "output_type": "execute_result"
    }
   ],
   "source": [
    "mwR[0][0]/(n1*n2)  ### PERFECTO!!! \n"
   ]
  },
  {
   "cell_type": "markdown",
   "metadata": {},
   "source": [
    "# Si además queremos ver el IC:"
   ]
  },
  {
   "cell_type": "code",
   "execution_count": 15,
   "metadata": {},
   "outputs": [
    {
     "name": "stderr",
     "output_type": "stream",
     "text": [
      "R[write to console]: Loading required package: exact2x2\n",
      "\n",
      "R[write to console]: Loading required package: exactci\n",
      "\n",
      "R[write to console]: Loading required package: ssanv\n",
      "\n",
      "R[write to console]: Loading required package: bpcp\n",
      "\n",
      "R[write to console]: Loading required package: survival\n",
      "\n",
      "R[write to console]: Loading required package: ggplot2\n",
      "\n",
      "R[write to console]: Loading required package: coin\n",
      "\n"
     ]
    }
   ],
   "source": [
    "# vamos con R\n",
    "ro.r('''\n",
    "install.packages('asht')\n",
    "library('asht')\n",
    "wmwTest <- asht::wmwTest \n",
    "''')\n",
    "wmwTest = ro.globalenv['wmwTest']"
   ]
  },
  {
   "cell_type": "code",
   "execution_count": 16,
   "metadata": {},
   "outputs": [
    {
     "data": {
      "text/html": [
       "\n",
       "        <span>FloatVector with 1 elements.</span>\n",
       "        <table>\n",
       "        <tbody>\n",
       "          <tr>\n",
       "          \n",
       "            <td>\n",
       "            0.510000\n",
       "            </td>\n",
       "          \n",
       "          </tr>\n",
       "        </tbody>\n",
       "        </table>\n",
       "        "
      ],
      "text/plain": [
       "R object with classes: ('numeric',) mapped to:\n",
       "[0.510000]"
      ]
     },
     "metadata": {},
     "output_type": "display_data"
    },
    {
     "data": {
      "text/html": [
       "\n",
       "        <span>FloatVector with 2 elements.</span>\n",
       "        <table>\n",
       "        <tbody>\n",
       "          <tr>\n",
       "          \n",
       "            <td>\n",
       "            0.398919\n",
       "            </td>\n",
       "          \n",
       "            <td>\n",
       "            0.619913\n",
       "            </td>\n",
       "          \n",
       "          </tr>\n",
       "        </tbody>\n",
       "        </table>\n",
       "        "
      ],
      "text/plain": [
       "R object with classes: ('numeric',) mapped to:\n",
       "[0.398919, 0.619913]"
      ]
     },
     "metadata": {},
     "output_type": "display_data"
    }
   ],
   "source": [
    "auc_asht = wmwTest(x=score[indB],y=score[indA])\n",
    "\n",
    "display(auc_asht.rx('statistic')[0])\n",
    "\n",
    "\n",
    "display(auc_asht.rx('conf.int')[0])\n",
    "\n",
    "\n",
    "# este paquete implementa para el IC según el paper de Fay and Malinovsky (2018). \n",
    "# ojo, el estadístico no fue el U, fue el U normalizado (i.e. directamente el AUC)"
   ]
  },
  {
   "cell_type": "markdown",
   "metadata": {},
   "source": [
    "## DeLong para IC: "
   ]
  },
  {
   "cell_type": "code",
   "execution_count": 17,
   "metadata": {},
   "outputs": [
    {
     "name": "stderr",
     "output_type": "stream",
     "text": [
      "R[write to console]: Type 'citation(\"pROC\")' for a citation.\n",
      "\n",
      "R[write to console]: \n",
      "Attaching package: ‘pROC’\n",
      "\n",
      "\n",
      "R[write to console]: The following objects are masked from ‘package:stats’:\n",
      "\n",
      "    cov, smooth, var\n",
      "\n",
      "\n"
     ]
    }
   ],
   "source": [
    "# vamos con R\n",
    "ro.r('''\n",
    "install.packages('pROC')\n",
    "library('pROC')\n",
    "auc <- pROC::auc \n",
    "ci <- pROC::ci \n",
    "''')\n",
    "auc_pROC = ro.globalenv['auc']\n",
    "ci_pROC = ro.globalenv['ci']"
   ]
  },
  {
   "cell_type": "code",
   "execution_count": 18,
   "metadata": {},
   "outputs": [
    {
     "name": "stderr",
     "output_type": "stream",
     "text": [
      "R[write to console]: Setting levels: control = 0, case = 1\n",
      "\n",
      "R[write to console]: Setting direction: controls < cases\n",
      "\n"
     ]
    },
    {
     "data": {
      "text/plain": [
       "array([0.39571544, 0.51      , 0.62428456])"
      ]
     },
     "execution_count": 18,
     "metadata": {},
     "output_type": "execute_result"
    }
   ],
   "source": [
    "\n",
    "%R -i score -i binary_class roc_object <- roc(response = binary_class,  predictor = score); \n",
    "%R ci_deLong <- pROC::ci(roc_object, of = 'auc');\n",
    "ci = %R ci_deLong\n",
    "ci"
   ]
  },
  {
   "cell_type": "markdown",
   "metadata": {},
   "source": [
    "#### Fijensé que no da igual, pero dio del mismo orden de magnitud que con el método de Fay"
   ]
  },
  {
   "cell_type": "markdown",
   "metadata": {},
   "source": [
    "# Por último, con este número de clases (n1=50 y n2= 50) Cuál es la zona de aceptación de la H0?"
   ]
  },
  {
   "cell_type": "markdown",
   "metadata": {},
   "source": [
    "$ U = Z_0 * \\sigma_U + \\mu_U $\n",
    "\n",
    "$Z_0 = \\phi(1-\\alpha/2)$"
   ]
  },
  {
   "cell_type": "code",
   "execution_count": 19,
   "metadata": {},
   "outputs": [
    {
     "data": {
      "text/plain": [
       "1250.0"
      ]
     },
     "metadata": {},
     "output_type": "display_data"
    },
    {
     "name": "stdout",
     "output_type": "stream",
     "text": [
      "std : 145.05746\n",
      "Z0 : 1.95996\n"
     ]
    }
   ],
   "source": [
    "mu = n1*n2/2\n",
    "display(mu)\n",
    "\n",
    "sigma = np.sqrt(n1*n2*(n1+n2+1)/12)\n",
    "print('std : %.5f'%sigma)\n",
    "alpha = 0.05\n",
    "\n",
    "z0=st.norm.ppf(1-alpha/2)\n",
    "print('Z0 : %.5f'%z0)"
   ]
  },
  {
   "cell_type": "code",
   "execution_count": 20,
   "metadata": {},
   "outputs": [
    {
     "data": {
      "text/plain": [
       "[965.6926029474923, 1534.3073970525077]"
      ]
     },
     "metadata": {},
     "output_type": "display_data"
    },
    {
     "data": {
      "text/plain": [
       "[0.3862770411789969, 0.613722958821003]"
      ]
     },
     "metadata": {},
     "output_type": "display_data"
    }
   ],
   "source": [
    "U_acept_H0 = [mu-z0*sigma,mu+z0*sigma]\n",
    "display(U_acept_H0)\n",
    "\n",
    "AUC_acept_H0 = [u/(n1*n2) for u in U_acept_H0]\n",
    "display(AUC_acept_H0)"
   ]
  },
  {
   "cell_type": "markdown",
   "metadata": {},
   "source": [
    "### Cuyo rango es del mismo orden que la amplitud del IC95% \n",
    "# Pero son cosas distintas!!"
   ]
  }
 ],
 "metadata": {
  "kernelspec": {
   "display_name": "Python 3",
   "language": "python",
   "name": "python3"
  },
  "language_info": {
   "codemirror_mode": {
    "name": "ipython",
    "version": 3
   },
   "file_extension": ".py",
   "mimetype": "text/x-python",
   "name": "python",
   "nbconvert_exporter": "python",
   "pygments_lexer": "ipython3",
   "version": "3.6.9"
  }
 },
 "nbformat": 4,
 "nbformat_minor": 2
}
