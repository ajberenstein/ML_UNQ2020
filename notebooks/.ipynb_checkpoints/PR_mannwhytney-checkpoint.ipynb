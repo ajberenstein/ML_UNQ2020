{
 "cells": [
  {
   "cell_type": "code",
   "execution_count": 1,
   "metadata": {},
   "outputs": [],
   "source": [
    "import pandas as pd\n",
    "import numpy as np\n",
    "from sklearn import metrics\n",
    "from scipy.stats import norm\n",
    "from matplotlib import pyplot as plt\n",
    "import matplotlib\n",
    "\n",
    "import scipy.stats as st\n",
    "\n",
    "%load_ext rpy2.ipython"
   ]
  },
  {
   "cell_type": "code",
   "execution_count": 2,
   "metadata": {},
   "outputs": [],
   "source": [
    "## Notar que los intervalos no dependen de n+m, sinó solo de n, el número de elementos positivos.\n",
    "\n",
    "def ci_pr(aucpr,npos,alpha=0.05,method = \"binomial\"):\n",
    "    z= norm.ppf(q=1-alpha/2,loc=0,scale=1)\n",
    "    if method == \"binomial\":\n",
    "        delta = z * np.sqrt(aucpr*(1-aucpr)/(npos))  ## es sobre n1, el número de elementos en la clase positiva (ver paper Kendrick, sección 3.2)\n",
    "        lower = aucpr - delta\n",
    "        upper = aucpr + delta\n",
    "        return(lower, upper)\n",
    "    elif method == 'logit':\n",
    "        neta = np.log(aucpr/(1-aucpr)) # logit tranformation\n",
    "        #tau (s.e.(neta))\n",
    "        tau = 1/np.sqrt(npos*aucpr*(1-aucpr))\n",
    "\n",
    "        delta_logit_scale = z*tau\n",
    "        lower_logit_scale = neta-delta_logit_scale\n",
    "        upper_logit_scale = neta+delta_logit_scale\n",
    "        \n",
    "        lower = np.exp(lower_logit_scale)/(1+np.exp(lower_logit_scale))\n",
    "        upper = np.exp(upper_logit_scale)/(1+np.exp(upper_logit_scale))\n",
    "        return lower, upper\n",
    "    else: \n",
    "        print('method must be any of biomial or logit')\n",
    "        \n",
    "\n",
    "def my_empirical_ci(rec,prec,alpha= 0.95):\n",
    "    df = pd.DataFrame({'recall':rec,'prec':prec})\n",
    "    df = df[df.recall!=0]\n",
    "    prec_means = df.groupby('recall')['prec'].max()\n",
    "    avp = prec_means.mean()\n",
    "    ci = st.t.interval(alpha, len(prec_means)-1, loc=avp, scale=st.sem(prec_means))\n",
    "    return avp,ci,prec_means"
   ]
  },
  {
   "cell_type": "code",
   "execution_count": 3,
   "metadata": {},
   "outputs": [
    {
     "name": "stdout",
     "output_type": "stream",
     "text": [
      "(0.8544831705972787, 1.0455168294027213)\n",
      "(0.7177966416663006, 0.993003468273759)\n"
     ]
    }
   ],
   "source": [
    "print(ci_pr(aucpr=0.95,npos=20,method = 'binomial') )\n",
    "print(ci_pr(aucpr=0.95,npos=20,method = 'logit') )"
   ]
  },
  {
   "cell_type": "markdown",
   "metadata": {},
   "source": [
    "## Para generar nuestros datasets de prueba vamos a Interfasear con R\n",
    "#### 1ro: Porque R tiene un paquete muy piola para jugar con este tema\n",
    "#### 2do :  Para ver un ejemplo de cómo interfasear"
   ]
  },
  {
   "cell_type": "code",
   "execution_count": 4,
   "metadata": {},
   "outputs": [],
   "source": [
    "import rpy2.robjects as ro\n",
    "\n",
    "ro.r('''\n",
    "library(precrec)\n",
    "create_samples <- create_sim_samples    ### podría haber definido una función arbitraria,\n",
    "                                        #### pero sólo cargué al entorno global una función del paquete precrec\n",
    "''')\n",
    "create_samples = ro.globalenv['create_samples']"
   ]
  },
  {
   "cell_type": "code",
   "execution_count": 5,
   "metadata": {},
   "outputs": [
    {
     "data": {
      "text/html": [
       "\n",
       "        <span>StrVector with 4 elements.</span>\n",
       "        <table>\n",
       "        <tbody>\n",
       "          <tr>\n",
       "          \n",
       "            <td>\n",
       "            'scores'\n",
       "            </td>\n",
       "          \n",
       "            <td>\n",
       "            'labels'\n",
       "            </td>\n",
       "          \n",
       "            <td>\n",
       "            'modnames'\n",
       "            </td>\n",
       "          \n",
       "            <td>\n",
       "            'dsids'\n",
       "            </td>\n",
       "          \n",
       "          </tr>\n",
       "        </tbody>\n",
       "        </table>\n",
       "        "
      ],
      "text/plain": [
       "R object with classes: ('character',) mapped to:\n",
       "['scores', 'labels', 'modnames', 'dsids']"
      ]
     },
     "execution_count": 5,
     "metadata": {},
     "output_type": "execute_result"
    }
   ],
   "source": [
    "num_predictores = 2\n",
    "npos=5\n",
    "nneg=10\n",
    "tipo_de_muestra = \"good_er\"  ## Que significa good early retrieval (performance). \n",
    "# básicamente con el good_er le estoy diciendo que me arme un modelito que arranque con buenas predicciones iniciales\n",
    "\n",
    "res= create_samples(num_predictores, npos, nneg, tipo_de_muestra)   \n",
    "## Pará la pelota. Mirá lo que hicimos: \n",
    "## llamamos a una función de R, con objetos de python!!\n",
    "res.names"
   ]
  },
  {
   "cell_type": "markdown",
   "metadata": {},
   "source": [
    "#####  veamos que pnta tiene el objeto que generamos"
   ]
  },
  {
   "cell_type": "code",
   "execution_count": 6,
   "metadata": {},
   "outputs": [
    {
     "name": "stdout",
     "output_type": "stream",
     "text": [
      "$scores\n",
      "$scores[[1]]\n",
      "$scores[[1]][[1]]\n",
      " [1] 0.34167836 0.35388320 0.07809021 0.04450410 0.91968061 0.37894125\n",
      " [7] 0.27514255 0.06610005 0.18920741 0.14092304 0.10593435 0.09708214\n",
      "[13] 0.01240817 0.18150582 0.13144687\n",
      "\n",
      "\n",
      "$scores[[2]]\n",
      "$scores[[2]][[1]]\n",
      " [1] 0.643757901 0.668609655 0.351024673 0.824075209 0.003965975 0.019773037\n",
      " [7] 0.004621158 0.188173299 0.031218195 0.156775958 0.043541371 0.193472472\n",
      "[13] 0.110554771 0.143331531 0.042819163\n",
      "\n",
      "\n",
      "\n",
      "\n",
      "$labels\n",
      " [1] 1 1 1 1 1 0 0 0 0 0 0 0 0 0 0\n",
      "\n",
      "\n"
     ]
    }
   ],
   "source": [
    "scores = res.rx('scores')  ## rx permite obtener el objeto por nombre\n",
    "print(scores)\n",
    "\n",
    "labels = res.rx('labels')  ## rx permite obtener el objeto por nombre\n",
    "print(labels)"
   ]
  },
  {
   "cell_type": "code",
   "execution_count": 7,
   "metadata": {},
   "outputs": [],
   "source": [
    "ro.r('''\n",
    "set.seed(31416)\n",
    "library(precrec)\n",
    "create_samples <- create_sim_samples    ### podría haber definido una función arbitraria,\n",
    "                                        #### pero sólo cargué al entorno global una función del paquete precrec\n",
    "''')\n",
    "create_samples = ro.globalenv['create_samples']\n",
    "\n",
    "def get_score_and_label(num_predictores = 2, npos=5, nneg=10, tipo_de_muestra = \"good_er\"):\n",
    "    # llamo a la función desde R\n",
    "    res= create_samples(num_predictores, npos, nneg, tipo_de_muestra)\n",
    "    \n",
    "    scores = list()  # lista de scores (tanto como predictores pida generar)\n",
    "    for i in range(num_predictores):\n",
    "        scores.append(np.array(res.rx('scores')[0][i][0]))\n",
    "    \n",
    "    labels= np.array(res.rx('labels')[0]).astype(int)\n",
    "    return(scores,labels)"
   ]
  },
  {
   "cell_type": "code",
   "execution_count": 9,
   "metadata": {},
   "outputs": [
    {
     "data": {
      "text/plain": [
       "(0.7467082034370741, 0.7876677136466226)"
      ]
     },
     "execution_count": 9,
     "metadata": {},
     "output_type": "execute_result"
    }
   ],
   "source": [
    "numpred=2;npos=200;nneg=400;tipo = 'good_er'\n",
    "scores,labels = get_score_and_label(num_predictores = numpred, npos=npos, nneg=nneg, tipo_de_muestra = tipo)\n",
    "aucpr0 = metrics.average_precision_score(y_true=labels,y_score = scores[0])\n",
    "aucpr1 = metrics.average_precision_score(y_true=labels,y_score = scores[1])\n",
    "aucpr0,aucpr1"
   ]
  },
  {
   "cell_type": "markdown",
   "metadata": {},
   "source": [
    "### Veamos ICs"
   ]
  },
  {
   "cell_type": "code",
   "execution_count": 10,
   "metadata": {},
   "outputs": [
    {
     "name": "stdout",
     "output_type": "stream",
     "text": [
      "(0.6818871525333156, 0.8021532027280022)\n",
      "(0.725525516039596, 0.8388653458540812)\n"
     ]
    }
   ],
   "source": [
    "print(ci_pr(aucpr0,npos=npos,alpha=0.05,method = \"logit\"))\n",
    "print(ci_pr(aucpr1,npos=npos,alpha=0.05,method = \"logit\"))\n"
   ]
  },
  {
   "cell_type": "code",
   "execution_count": 13,
   "metadata": {},
   "outputs": [
    {
     "data": {
      "text/plain": [
       "<matplotlib.collections.LineCollection at 0x7fb0f17cb6a0>"
      ]
     },
     "execution_count": 13,
     "metadata": {},
     "output_type": "execute_result"
    },
    {
     "data": {
      "image/png": "[encoded data removed]",
      "text/plain": [
       "<Figure size 432x288 with 1 Axes>"
      ]
     },
     "metadata": {
      "needs_background": "light"
     },
     "output_type": "display_data"
    }
   ],
   "source": [
    "prec0, rec0 , _ = metrics.precision_recall_curve(\n",
    "        y_true=labels,\n",
    "    probas_pred = scores[0])\n",
    "prec1, rec1 , _ = metrics.precision_recall_curve(\n",
    "        y_true=labels,\n",
    "    probas_pred = scores[1])\n",
    "plt.plot(rec0,prec0)\n",
    "plt.plot(rec1,prec1)\n",
    "plt.ylim([0,1])\n",
    "plt.hlines(npos/(npos+nneg), 0, 1, colors='k', linestyles='dashed')"
   ]
  },
  {
   "cell_type": "markdown",
   "metadata": {},
   "source": [
    "## Juguemos un poquito más con R: \n",
    "(hay más cosas que valen la pena traer, aunque esta no sea necesariamente el caso)"
   ]
  },
  {
   "cell_type": "code",
   "execution_count": 14,
   "metadata": {},
   "outputs": [
    {
     "name": "stderr",
     "output_type": "stream",
     "text": [
      "UsageError: Line magic function `%R` not found.\n"
     ]
    }
   ],
   "source": [
    "ro.r('''\n",
    "library(PRROC)\n",
    "''')\n",
    "\n",
    "sc=scores[0]\n",
    "%R -i sc -i labels plot(pr.curve(scores.class0 = sc, weights.class0 = labels, curve = TRUE))"
   ]
  },
  {
   "cell_type": "markdown",
   "metadata": {},
   "source": [
    "## Notar que el AUCPR difiere del difiere del Calculado  en python\n",
    "####  python usa\n",
    "average_precision\n",
    "\n",
    "#### PRROC usa un método de interpolación:\n",
    "area under the curve computed using the interpolation of Davis & Goadrich (2006). "
   ]
  },
  {
   "cell_type": "markdown",
   "metadata": {},
   "source": [
    "# Veamos intervalos de confianza: "
   ]
  },
  {
   "cell_type": "code",
   "execution_count": 336,
   "metadata": {},
   "outputs": [
    {
     "data": {
      "text/plain": [
       "<matplotlib.collections.LineCollection at 0x7f09a6568780>"
      ]
     },
     "execution_count": 336,
     "metadata": {},
     "output_type": "execute_result"
    },
    {
     "data": {
      "image/png": "[encoded data removed]",
      "text/plain": [
       "<Figure size 432x288 with 1 Axes>"
      ]
     },
     "metadata": {
      "needs_background": "light"
     },
     "output_type": "display_data"
    }
   ],
   "source": [
    "# sólo para fijar semilla y q todos sigamos viendo lo mismo\n",
    "ro.r('''\n",
    "set.seed(31416)\n",
    "''')  \n",
    "\n",
    "numpred=1;\n",
    "npos=200;\n",
    "nneg=400;\n",
    "tipo = 'poor_er';\n",
    "scores_poor, labels_poor = get_score_and_label(num_predictores = numpred, npos=npos, nneg=nneg, tipo_de_muestra = tipo)\n",
    "#aucpr\n",
    "aucpr_poor_er = metrics.average_precision_score(y_true=labels_poor,y_score = scores_poor[0])\n",
    "# para plotear\n",
    "prec_poor, rec_poor , _ = metrics.precision_recall_curve(\n",
    "        y_true=labels_poor,\n",
    "        probas_pred = scores_poor[0])\n",
    "\n",
    "\n",
    "\n",
    "\n",
    "tipo = 'good_er';\n",
    "scores_good, labels_good = get_score_and_label(num_predictores = numpred, npos=npos, nneg=nneg, tipo_de_muestra = tipo)\n",
    "aucpr_good_er = metrics.average_precision_score(y_true=labels_good,y_score = scores_good[0])\n",
    "\n",
    "# para plotear\n",
    "prec_good, rec_good , _ = metrics.precision_recall_curve(\n",
    "        y_true=labels_good,\n",
    "        probas_pred = scores_good[0])\n",
    "\n",
    "\n",
    "\n",
    "plt.plot(rec_poor,prec_poor)\n",
    "plt.plot(rec_good,prec_good)\n",
    "plt.ylim([0,1])\n",
    "plt.xlim([0,1])\n",
    "plt.hlines(npos/(npos+nneg), 0, 1, colors='k', linesty\n",
    "           les='dashed')"
   ]
  },
  {
   "cell_type": "code",
   "execution_count": 334,
   "metadata": {},
   "outputs": [
    {
     "name": "stdout",
     "output_type": "stream",
     "text": [
      "aucpr: 0.55 IC95%: [0.48 0.62]\n",
      "aucpr: 0.73 IC95%: [0.66 0.78]\n"
     ]
    }
   ],
   "source": [
    "low_poor, upper_poor = ci_pr(aucpr_poor_er,npos=npos,alpha=0.05,method = \"logit\")\n",
    "low_good, upper_good = ci_pr(aucpr_good_er,npos=npos,alpha=0.05,method = \"logit\")\n",
    "\n",
    "print('aucpr: %.2f'%aucpr_poor_er, \"IC95%%: [%.2f %.2f]\"%(low_poor,upper_poor))\n",
    "print('aucpr: %.2f'%aucpr_good_er, \"IC95%%: [%.2f %.2f]\"%(low_good,upper_good))\n",
    "# Los intervalos de confianza no se superponen"
   ]
  },
  {
   "cell_type": "markdown",
   "metadata": {},
   "source": [
    "## De estos dos predictores podemos ver curvas ROC"
   ]
  },
  {
   "cell_type": "code",
   "execution_count": 352,
   "metadata": {},
   "outputs": [
    {
     "data": {
      "text/plain": [
       "<matplotlib.legend.Legend at 0x7f09a6bf1400>"
      ]
     },
     "execution_count": 352,
     "metadata": {},
     "output_type": "execute_result"
    },
    {
     "data": {
      "image/png": "[encoded data removed]",
      "text/plain": [
       "<Figure size 432x288 with 1 Axes>"
      ]
     },
     "metadata": {
      "needs_background": "light"
     },
     "output_type": "display_data"
    }
   ],
   "source": [
    "fpr_poor, tpr_poor , _ = metrics.roc_curve(\n",
    "        y_true=labels_poor,\n",
    "        y_score = scores_poor[0])\n",
    "\n",
    "fpr_good, tpr_good , _ = metrics.roc_curve(\n",
    "        y_true=labels_good,\n",
    "        y_score = scores_good[0])\n",
    "\n",
    "auc_poor = metrics.roc_auc_score(labels_poor,scores_poor[0])\n",
    "auc_good = metrics.roc_auc_score(labels_good,scores_good[0])\n",
    "\n",
    "plt.plot(fpr_poor,tpr_poor,label = 'auc %.3f'%auc_poor)\n",
    "plt.plot(fpr_good,tpr_good,label = 'auc %.3f'%auc_good)\n",
    "plt.ylim([0,1])\n",
    "plt.xlim([0,1])\n",
    "plt.hlines(npos/(npos+nneg), 0, 1, colors='k', linestyles='dashed')\n",
    "plt.legend()\n"
   ]
  },
  {
   "cell_type": "markdown",
   "metadata": {},
   "source": [
    "### Veamos cómo nos da el DeLong test"
   ]
  },
  {
   "cell_type": "markdown",
   "metadata": {},
   "source": [
    "## R o python? Ambos!!"
   ]
  },
  {
   "cell_type": "code",
   "execution_count": 473,
   "metadata": {},
   "outputs": [
    {
     "name": "stderr",
     "output_type": "stream",
     "text": [
      "WARNING:rpy2.rinterface_lib.callbacks:R[write to console]: Setting levels: control = 0, case = 1\n",
      "\n",
      "WARNING:rpy2.rinterface_lib.callbacks:R[write to console]: Setting direction: controls < cases\n",
      "\n",
      "WARNING:rpy2.rinterface_lib.callbacks:R[write to console]: Setting levels: control = 0, case = 1\n",
      "\n",
      "WARNING:rpy2.rinterface_lib.callbacks:R[write to console]: Setting direction: controls < cases\n",
      "\n"
     ]
    },
    {
     "name": "stdout",
     "output_type": "stream",
     "text": [
      "AUC of roc1 AUC of roc2 \n",
      "   0.788325    0.779100 \n",
      "p-value =  0.749\n"
     ]
    }
   ],
   "source": [
    "ro.r('''\n",
    "library(pROC)\n",
    "''')\n",
    "\n",
    "sc_poor=scores_poor[0]\n",
    "sc_good=scores_good[0]\n",
    "\n",
    "%R -i sc_poor -i sc_good -i labels roc1 <- roc(response = labels,  predictor = sc_good); \n",
    "%R -i sc_poor -i sc_good -i labels roc2 <- roc(response = labels,  predictor = sc_poor)\n",
    "%R delong <- roc.test(roc1, roc2,method=\"delong\");\n",
    "%R print(delong$estimate)\n",
    "pv = %R delong$p.value\n",
    "print(\"p-value =  %.3f\"%pv)"
   ]
  },
  {
   "cell_type": "markdown",
   "metadata": {},
   "source": [
    "# Veamos el AUC01"
   ]
  },
  {
   "cell_type": "markdown",
   "metadata": {},
   "source": [
    "#### Calculemos las AUC-01 en python primero"
   ]
  },
  {
   "cell_type": "code",
   "execution_count": 504,
   "metadata": {},
   "outputs": [
    {
     "name": "stdout",
     "output_type": "stream",
     "text": [
      "auc01 poor er: 0.0116500\n",
      "auc01 poor er 0.0425375\n"
     ]
    }
   ],
   "source": [
    "\n",
    "ii = fpr_poor<=0.1\n",
    "print('auc01 poor er: %.7f'%metrics.auc(fpr_poor[ii],tpr_poor[ii]))\n",
    "\n",
    "jj = fpr_good<=0.1\n",
    "print('auc01 poor er %.7f'%metrics.auc(fpr_good[jj],tpr_good[jj]))\n"
   ]
  },
  {
   "cell_type": "markdown",
   "metadata": {},
   "source": [
    "#### Ahora vamos a R, porque tiene implementado un test de bootstrap en una línea para testear dif signif"
   ]
  },
  {
   "cell_type": "code",
   "execution_count": 503,
   "metadata": {},
   "outputs": [
    {
     "name": "stdout",
     "output_type": "stream",
     "text": [
      "  |======================================================================| 100%\n",
      "pAUC (1-0.9 specificity) of roc1 pAUC (1-0.9 specificity) of roc2 \n",
      "                       0.0425375                        0.0116500 \n",
      "p-value =  0.000\n"
     ]
    }
   ],
   "source": [
    "# le pido que haga el test limitando el FPR a 0.1, es decir la especificidad (sp) entre 1 y 0.9\n",
    "# al evaluar AUC parciales, el test se hace por defecto vía boostraping. \n",
    "\n",
    "%R partial_auc_boostraping <- roc.test(roc1, roc2, reuse.auc=FALSE, partial.auc=c(1, 0.9), partial.auc.focus=\"sp\")\n",
    "%R print(partial_auc_boostraping$estimate)  # esto lo imprimo para que vean que son las mismas AUC las que estamos testeando\n",
    "pv = %R partial_auc_boostraping$p.value\n",
    "print(\"p-value =  %.3f\"%pv)"
   ]
  },
  {
   "cell_type": "markdown",
   "metadata": {},
   "source": [
    "## Puedo considerar la normalización de McClish \n",
    "\n",
    "#### El resultado del test no cambiará porque es una transformación lineal del AUC, una normalización que me ayuda a interpretar el valor de AUC parcial\n",
    "\n",
    "$$AUC_{McClish} = \\frac{1 + \\frac{AUC - AUC_{rand}}{AUC_{max}-AUC_{rand}} }{2}$$\n",
    "\n",
    "#### Por ejemplo, si tomamos AUC parcial a \n",
    "$$FPR = 0.1$$\n",
    "\n",
    "tenremos: \n",
    "\n",
    "$$AUC_{max} = 0.1 $$ \n",
    "(área del rectángulo de base 0.1 y altura 1)\n",
    "\n",
    "\n",
    "\n",
    "$$AUC_{rand} = 0.005 $$ \n",
    "(área del triángulo rectángulo de base 0.1 y altura 0.1)\n"
   ]
  },
  {
   "cell_type": "code",
   "execution_count": 492,
   "metadata": {},
   "outputs": [
    {
     "name": "stdout",
     "output_type": "stream",
     "text": [
      "  |======================================================================| 100%\n",
      "Corrected pAUC (1-0.9 specificity) of roc1 \n",
      "                                 0.6975658 \n",
      "Corrected pAUC (1-0.9 specificity) of roc2 \n",
      "                                 0.5350000 \n",
      "p-value =  0.000\n"
     ]
    }
   ],
   "source": [
    "# testeo metiendo la normalización de McClish\n",
    "%R partial_auc_boostraping <- roc.test(roc1, roc2, reuse.auc=FALSE, partial.auc=c(1, 0.9), partial.auc.focus=\"sp\",partial.auc.correct=TRUE)\n",
    "%R print(partial_auc_boostraping$estimate)\n",
    "pv = %R partial_auc_boostraping$p.value\n",
    "print(\"p-value =  %.3f\"%pv)\n"
   ]
  },
  {
   "cell_type": "markdown",
   "metadata": {},
   "source": [
    "#### Por completitud (es en realidad al dope), hagamos un test de AUC total pero no por deLong, sino por bootstrap"
   ]
  },
  {
   "cell_type": "code",
   "execution_count": 489,
   "metadata": {},
   "outputs": [
    {
     "name": "stdout",
     "output_type": "stream",
     "text": [
      "  |======================================================================| 100%\n",
      "AUC of roc1 AUC of roc2 \n",
      "   0.788325    0.779100 \n",
      "p-value =  0.742\n"
     ]
    }
   ],
   "source": [
    "# No tiene sentido hacerlo por bootstrap si evalúo auc totales, pero sólo por completitud y para poder comparar\n",
    "%R auc_boostraping <- roc.test(roc1, roc2,method = \"bootstrap\", boot.n=1000)  # notar que puedo controlar el número de iteraciones\n",
    "%R print(auc_boostraping$estimate)\n",
    "pvbtsp = %R auc_boostraping$p.value\n",
    "print(\"p-value =  %.3f\"%pvbtsp)"
   ]
  },
  {
   "cell_type": "code",
   "execution_count": null,
   "metadata": {},
   "outputs": [],
   "source": []
  },
  {
   "cell_type": "code",
   "execution_count": null,
   "metadata": {},
   "outputs": [],
   "source": []
  },
  {
   "cell_type": "markdown",
   "metadata": {},
   "source": [
    "## Ejercicio: explorar el comportamiento de las curvas ROC y PR con distinto nivel de desbalance. \n",
    "#### Hacerlo para npos+nneg = 100000"
   ]
  },
  {
   "cell_type": "code",
   "execution_count": 554,
   "metadata": {},
   "outputs": [],
   "source": [
    "nposs = np.array([10,50,100,500,1000,5000,10000,20000,30000,40000,50000])\n",
    "nnegg = 10**5-nposs\n"
   ]
  },
  {
   "cell_type": "code",
   "execution_count": 614,
   "metadata": {},
   "outputs": [],
   "source": [
    "# sólo para fijar semilla y q todos sigamos viendo lo mismo\n",
    "ro.r('''\n",
    "set.seed(31416)\n",
    "''')  \n",
    "\n",
    "AUC =[]\n",
    "AUCPR=[]\n",
    "PI = []\n",
    "FPRs=[]\n",
    "TPRs=[]\n",
    "PRECs=[]\n",
    "RECs=[]\n",
    "numpred=1;\n",
    "tipo = 'excel';\n",
    "for i in range(len(nposs)):\n",
    "    npos=int(nposs[i]);\n",
    "    nneg=int(nnegg[i]);\n",
    "\n",
    "    pii = npos/float(npos+nneg)\n",
    "    scores, labels = get_score_and_label(num_predictores = numpred, npos=npos, nneg=nneg, tipo_de_muestra = tipo)\n",
    "\n",
    "    prec, rec , _ = metrics.precision_recall_curve(\n",
    "            y_true=labels,\n",
    "            probas_pred = scores[0])\n",
    "\n",
    "    fpr, tpr , _ = metrics.roc_curve(\n",
    "            y_true=labels,\n",
    "            y_score = scores[0])\n",
    "\n",
    "    auc = metrics.auc(fpr,tpr)\n",
    "    aucpr = metrics.average_precision_score(y_true=labels,y_score = scores[0])\n",
    "\n",
    "    AUC.append(auc)\n",
    "    AUCPR.append(aucpr)\n",
    "    PI.append(pii)\n",
    "\n",
    "    FPRs.append(fpr)\n",
    "    TPRs.append(tpr)\n",
    "    PRECs.append(prec)\n",
    "    RECs.append(rec)\n"
   ]
  },
  {
   "cell_type": "code",
   "execution_count": 615,
   "metadata": {},
   "outputs": [
    {
     "data": {
      "image/png": "[encoded data removed]",
      "text/plain": [
       "<Figure size 432x288 with 1 Axes>"
      ]
     },
     "metadata": {
      "needs_background": "light"
     },
     "output_type": "display_data"
    }
   ],
   "source": [
    "plt.plot(PI,AUC,'-*',label ='aucROC')\n",
    "plt.plot(PI,AUCPR,'-*',label ='aucPR')\n",
    "plt.xlabel('imbalance')\n",
    "plt.ylabel('AUCs')\n",
    "plt.legend()\n",
    "plt.xscale('log')\n"
   ]
  },
  {
   "cell_type": "markdown",
   "metadata": {},
   "source": [
    "## Veamos un ejemplo: "
   ]
  },
  {
   "cell_type": "code",
   "execution_count": 638,
   "metadata": {},
   "outputs": [
    {
     "name": "stdout",
     "output_type": "stream",
     "text": [
      "0.001\n"
     ]
    },
    {
     "data": {
      "text/plain": [
       "Text(0, 0.5, 'Precision)')"
      ]
     },
     "execution_count": 638,
     "metadata": {},
     "output_type": "execute_result"
    },
    {
     "data": {
      "image/png": "[encoded data removed]",
      "text/plain": [
       "<Figure size 720x432 with 2 Axes>"
      ]
     },
     "metadata": {
      "needs_background": "light"
     },
     "output_type": "display_data"
    }
   ],
   "source": [
    "matplotlib.rcParams['figure.figsize'] = [10, 6]\n",
    "i =2\n",
    "pii = PI[i]\n",
    "print(pii)\n",
    "fig, (ax1, ax2) = plt.subplots(1, 2)\n",
    "ax1.plot(FPRs[i] , TPRs[i])\n",
    "ax1.set_xlabel('FPR')\n",
    "ax1.set_ylabel('TPR (ó RECALL)')\n",
    "\n",
    "ax2.plot(RECs[i], PRECs[i])\n",
    "ax2.set_xlabel('RECALL - ó TPR)')\n",
    "ax2.set_ylabel('Precision)')\n"
   ]
  },
  {
   "cell_type": "markdown",
   "metadata": {},
   "source": [
    "## Parémonos en pi= 0.001, y veamos varios predictores\n"
   ]
  },
  {
   "cell_type": "code",
   "execution_count": 678,
   "metadata": {},
   "outputs": [
    {
     "data": {
      "text/plain": [
       "<matplotlib.legend.Legend at 0x7f098d3cbc18>"
      ]
     },
     "execution_count": 678,
     "metadata": {},
     "output_type": "execute_result"
    },
    {
     "data": {
      "image/png": "[encoded data removed]",
      "text/plain": [
       "<Figure size 720x432 with 2 Axes>"
      ]
     },
     "metadata": {
      "needs_background": "light"
     },
     "output_type": "display_data"
    }
   ],
   "source": [
    "# sólo para fijar semilla y q todos sigamos viendo lo mismo\n",
    "ro.r('''\n",
    "set.seed(2718281)\n",
    "''')  \n",
    "\n",
    "\n",
    "npos=100\n",
    "nneg=10**5-npos\n",
    "tipo = 'excel';\n",
    "pii = npos/float(npos+nneg)\n",
    "AUC =[]\n",
    "AUCPR=[]\n",
    "PI = []\n",
    "FPRs=[]\n",
    "TPRs=[]\n",
    "PRECs=[]\n",
    "RECs=[]\n",
    "ntest = 5\n",
    "for i in range(ntest):\n",
    "    scores, labels = get_score_and_label(num_predictores = numpred, npos=npos, nneg=nneg, tipo_de_muestra = tipo)\n",
    "\n",
    "    prec, rec , _ = metrics.precision_recall_curve(\n",
    "            y_true=labels,\n",
    "            probas_pred = scores[0])\n",
    "\n",
    "    fpr, tpr , _ = metrics.roc_curve(\n",
    "            y_true=labels,\n",
    "            y_score = scores[0])\n",
    "\n",
    "    auc = metrics.auc(fpr,tpr)\n",
    "    aucpr = metrics.average_precision_score(y_true=labels,y_score = scores[0])\n",
    "    AUC.append(auc)\n",
    "    AUCPR.append(aucpr)\n",
    "    PI.append(pii)\n",
    "\n",
    "    FPRs.append(fpr)\n",
    "    TPRs.append(tpr)\n",
    "    PRECs.append(prec)\n",
    "    RECs.append(rec)\n",
    "    \n",
    "    \n",
    "matplotlib.rcParams['figure.figsize'] = [10, 6]\n",
    "fig, (ax1, ax2) = plt.subplots(1, 2)\n",
    "for i in range(ntest):\n",
    "    pii = PI[i]\n",
    "\n",
    "    ax1.plot(FPRs[i] , TPRs[i],label = 'auc %.3f'%AUC[i])\n",
    "    ax1.set_xlabel('FPR')\n",
    "    ax1.set_ylabel('TPR (ó RECALL)')\n",
    "\n",
    "    ax2.plot(RECs[i], PRECs[i],label='aucPR %.3f'%AUCPR[i])\n",
    "    ax2.set_xlabel('RECALL - ó TPR)')\n",
    "    ax2.set_ylabel('Precision)')\n",
    "ax1.legend()\n",
    "ax2.legend()"
   ]
  },
  {
   "cell_type": "markdown",
   "metadata": {},
   "source": [
    "# Puede Jugar un poco con :\n",
    "1) tipo de clasificador generdo (random, poor_er, good_er, excel)"
   ]
  },
  {
   "cell_type": "code",
   "execution_count": null,
   "metadata": {},
   "outputs": [],
   "source": []
  },
  {
   "cell_type": "code",
   "execution_count": null,
   "metadata": {},
   "outputs": [],
   "source": []
  },
  {
   "cell_type": "code",
   "execution_count": null,
   "metadata": {},
   "outputs": [],
   "source": [
    "#### TODO ESTO QUE VIENE ABAJO NO ENTRA, VA PARA EL TEST DE AveragePrecision"
   ]
  },
  {
   "cell_type": "code",
   "execution_count": 374,
   "metadata": {},
   "outputs": [
    {
     "name": "stdout",
     "output_type": "stream",
     "text": [
      "200\n",
      "400\n"
     ]
    },
    {
     "data": {
      "text/plain": [
       "(553,)"
      ]
     },
     "metadata": {},
     "output_type": "display_data"
    },
    {
     "data": {
      "text/plain": [
       "(201,)"
      ]
     },
     "execution_count": 374,
     "metadata": {},
     "output_type": "execute_result"
    }
   ],
   "source": [
    "print(npos)\n",
    "print(nneg)\n",
    "display(rec_poor.shape)\n",
    "np.unique(rec_poor).shape"
   ]
  },
  {
   "cell_type": "code",
   "execution_count": 450,
   "metadata": {},
   "outputs": [
    {
     "name": "stdout",
     "output_type": "stream",
     "text": [
      "aucpr: 0.728 IC95%: [0.662 0.785]\n"
     ]
    }
   ],
   "source": [
    "low_good, upper_good = ci_pr(aucpr_good_er,npos=npos,alpha=0.05,method = \"logit\")\n",
    "print('aucpr: %.3f'%aucpr_good_er, \"IC95%%: [%.3f %.3f]\"%(low_good,upper_good))\n"
   ]
  },
  {
   "cell_type": "code",
   "execution_count": null,
   "metadata": {},
   "outputs": [],
   "source": []
  },
  {
   "cell_type": "code",
   "execution_count": null,
   "metadata": {},
   "outputs": [],
   "source": []
  },
  {
   "cell_type": "code",
   "execution_count": null,
   "metadata": {},
   "outputs": [],
   "source": []
  },
  {
   "cell_type": "code",
   "execution_count": 452,
   "metadata": {},
   "outputs": [
    {
     "data": {
      "text/plain": [
       "(0.7275909252540538, 0.7275909252540539)"
      ]
     },
     "execution_count": 452,
     "metadata": {},
     "output_type": "execute_result"
    }
   ],
   "source": [
    "aprpoor, cipoor, pmax_good = my_empirical_ci(rec_poor,prec_poor,alpha=0.95)\n",
    "aprgood, cigood, pmax_poor = my_empirical_ci(rec_good,prec_good,alpha=0.95)\n",
    "\n",
    "# chequeo mi cálculo de aucpr (que de igual al de skitlearn)\n",
    "aprgood,aucpr_good_er   # dan exactamente igual las aucPR\n",
    "\n",
    "# El average Precision, es \n"
   ]
  },
  {
   "cell_type": "code",
   "execution_count": 442,
   "metadata": {},
   "outputs": [
    {
     "data": {
      "text/plain": [
       "MannwhitneyuResult(statistic=10977.0, pvalue=2.9836165873588085e-15)"
      ]
     },
     "execution_count": 442,
     "metadata": {},
     "output_type": "execute_result"
    }
   ],
   "source": [
    "st.mannwhitneyu(x=pmax_good,y=pmax_poor)"
   ]
  },
  {
   "cell_type": "code",
   "execution_count": null,
   "metadata": {},
   "outputs": [],
   "source": []
  },
  {
   "cell_type": "code",
   "execution_count": null,
   "metadata": {},
   "outputs": [],
   "source": []
  }
 ],
 "metadata": {
  "kernelspec": {
   "display_name": "Python 3",
   "language": "python",
   "name": "python3"
  },
  "language_info": {
   "codemirror_mode": {
    "name": "ipython",
    "version": 3
   },
   "file_extension": ".py",
   "mimetype": "text/x-python",
   "name": "python",
   "nbconvert_exporter": "python",
   "pygments_lexer": "ipython3",
   "version": "3.6.9"
  }
 },
 "nbformat": 4,
 "nbformat_minor": 2
}
